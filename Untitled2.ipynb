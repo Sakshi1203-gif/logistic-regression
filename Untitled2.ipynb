{
  "nbformat": 4,
  "nbformat_minor": 0,
  "metadata": {
    "colab": {
      "provenance": []
    },
    "kernelspec": {
      "name": "python3",
      "display_name": "Python 3"
    },
    "language_info": {
      "name": "python"
    }
  },
  "cells": [
    {
      "cell_type": "code",
      "execution_count": null,
      "metadata": {
        "id": "iR-d0poyRiME"
      },
      "outputs": [],
      "source": []
    },
    {
      "cell_type": "markdown",
      "source": [
        "1.What is Logistic Regression, and how does it differ from Linear Regression.\n",
        "\n",
        "- Logistic Regression\n",
        "\n",
        "    Purpose: Used for classification problems (mainly binary classification, but can be extended to multi-class).\n",
        "    Output: Predict\n",
        "- Use Logistic Regression for classification (e.g., Spam/Not Spam).\n",
        "-Use Linear Regression for predicting continuous values (e.g., house prices).\n",
        "\n",
        "  "
      ],
      "metadata": {
        "id": "9TNgOiLvRmc5"
      }
    },
    {
      "cell_type": "markdown",
      "source": [
        "2. What is the mathematical equation of Logistic Regression\n",
        "\n",
        "-The mathematical equation of Logistic Regression is based on the sigmoid function, which maps any real-valued number into a probability between 0 and 1.\n",
        "\n",
        "-For a given input X with features X1,X2,...,XnX1​,X2​,...,Xn​, the logistic regression model predicts the probability P(Y=1)P(Y=1) as:\n",
        "P(Y=1∣X)=11+e−(b0+b1X1+b2X2+...+bnXn)\n",
        "P(Y=1∣X)=1+e−(b0​+b1​X1​+b2​X2​+...+bn​Xn​)1​\n",
        "\n",
        "Where:\n",
        "\n",
        "  P(Y=1∣X)P(Y=1∣X) = Probability of the positive class (e.g., Spam, Yes, 1).\n",
        "  b0b0​ = Intercept (bias term).\n",
        "   b1,b2,...,bnb1​,b2​,...,bn​ = Coefficients (weights of features).\n",
        "   X1,X2,...,XnX1​,X2​,...,Xn​ = Input features.\n",
        "  ee = Euler’s number (≈ 2.718)."
      ],
      "metadata": {
        "id": "s6wW-MUfS-mo"
      }
    },
    {
      "cell_type": "markdown",
      "source": [
        "3.Why do we use the Sigmoid function in Logistic Regression.\n",
        "\n",
        "-The sigmoid function is used in logistic regression because it maps any real-valued number into a probability range between 0 and 1, making it ideal for binary classification.\n",
        "\n",
        "-Reasons for Using the Sigmoid Function:\n",
        "\n",
        "  - Probability Output (0 to 1) ✅\n",
        "\n",
        "      The sigmoid function ensures the output is always between 0 and 1, making it interpretable as a probability.\n",
        "\n",
        "  - Non-linearity for Decision Boundary 📈\n",
        "\n",
        "       Logistic regression needs a non-linear transformation to classify data into two distinct classes.\n",
        "       The sigmoid function provides a smooth decision boundary.\n",
        "\n",
        "  - Maps Large Values to Meaningful Probabilities 🎯\n",
        "\n",
        "     Large positive inputs → Output approaches 1 (Class 1).\n",
        "     Large negative inputs → Output approaches 0 (Class 0).\n",
        "\n",
        "  - Differentiability for Optimization ⚡\n",
        "  \n",
        "      The sigmoid function is smooth and differentiable, allowing gradient-based optimization (e.g., using Gradient Descent) for model training.\n",
        "\n",
        "Visualization of Sigmoid Function\n",
        "\n",
        "   When Z = 0, output = 0.5 (neutral probability).\n",
        "  When Z → ∞, output → 1 (high confidence in Class 1).\n",
        "   When Z → -∞, output → 0 (high confidence in Class 0)."
      ],
      "metadata": {
        "id": "crgi7uDhTW87"
      }
    },
    {
      "cell_type": "markdown",
      "source": [
        "4.What is the cost function of Logistic Regression\n",
        "\n",
        "-In Logistic Regression, we use the Log Loss (also called Binary Cross-Entropy) as the cost function instead of Mean Squared Error (MSE), because MSE is not ideal for classification problems.\n",
        "\n",
        "\n",
        "Mathematical Formula\n",
        "\n",
        "The cost function for a single data point is:\n",
        "J(θ)=−[ylog⁡(y^)+(1−y)log⁡(1−y^)]\n",
        "J(θ)=−[ylog(y^​)+(1−y)log(1−y^​)]\n",
        "\n",
        "Where:\n",
        "\n",
        "    J(θ)J(θ) = Cost function (error measure).\n",
        "    yy = Actual label (0 or 1).\n",
        "    y^y^​ = Predicted probability P(Y=1∣X)P(Y=1∣X), given by the sigmoid function.\n",
        "\n",
        "For multiple data points (m samples), the total cost is the average loss:\n",
        "J(θ)=−1m∑i=1m[y(i)log⁡(y^(i))+(1−y(i))log⁡(1−y^(i))]\n",
        "J(θ)=−m1​i=1∑m​[y(i)log(y^​(i))+(1−y(i))log(1−y^​(i))]\n",
        "Why This Cost Function?\n",
        "\n",
        "✅ Avoids non-convexity: Unlike MSE, Log Loss produces a convex function, ensuring smooth convergence using Gradient Descent.\n",
        "✅ Penalizes incorrect predictions: Large errors result in high cost, pushing the model to improve.\n",
        "Key Insights:\n",
        "\n",
        "    If actual y=1y=1 and predicted y^y^​ is close to 1, loss is low.\n",
        "    If actual y=1y=1 and predicted y^y^​ is close to 0, loss is high.\n",
        "    If actual y=0y=0 and predicted y^y^​ is close to 1, loss is high.\n"
      ],
      "metadata": {
        "id": "HtGZxEHyT8Bn"
      }
    },
    {
      "cell_type": "markdown",
      "source": [
        "5. What is Regularization in Logistic Regression? Why is it needed\n",
        "\n",
        "-Regularization is a technique used in Logistic Regression (and other machine learning models) to prevent overfitting by adding a penalty term to the cost function. It helps improve the model's generalization to new, unseen data.\n",
        "\n",
        "-Why is Regularization Needed?\n",
        "\n",
        "✅ Prevents Overfitting – When a model learns too much from training data, it may perform poorly on new data.\n",
        "\n",
        "Regularization helps simplify the model.\n",
        "✅ Reduces Model Complexity – Large coefficients (θθ) can lead to high variance. Regularization shrinks them to prevent excessive sensitivity to small data changes.\n",
        "\n",
        "✅ Improves Generalization – Helps the model perform better on test data by preventing it from fitting noise in training data.\n",
        "\n"
      ],
      "metadata": {
        "id": "3FEHDQ2oULJu"
      }
    },
    {
      "cell_type": "markdown",
      "source": [
        "6.Explain the difference between Lasso, Ridge, and Elastic Net regression\n",
        "\n",
        "-Regularization techniques are used to prevent overfitting by adding a penalty term to the cost function, which controls the size of the model’s coefficients.\n",
        "\n",
        "-1. Ridge Regression (L2 Regularization)\n",
        "\n",
        "✅ Adds the sum of squared coefficients as a penalty.\n",
        "✅ Shrinks coefficients but does not eliminate any feature.\n",
        "✅ Best when all features are important, but the model needs to be regularized.\n",
        "Cost Function:\n",
        "J(θ)=Loss+λ∑θj2\n",
        "J(θ)=Loss+λ∑θj2​\n",
        "\n",
        "🔹 Effect: Reduces coefficients but keeps all variables.\n",
        "🔹 Use Case: When you have many correlated features.\n",
        "\n",
        "-2. Lasso Regression (L1 Regularization)\n",
        "\n",
        "✅ Adds the sum of absolute values of coefficients as a penalty.\n",
        "✅ Shrinks some coefficients completely to zero, effectively removing irrelevant features.\n",
        "✅ Helps in feature selection.\n",
        "Cost Function:\n",
        "J(θ)=Loss+λ∑∣θj∣\n",
        "J(θ)=Loss+λ∑∣θj​∣\n",
        "\n",
        "🔹 Effect: Some coefficients become exactly zero → irrelevant features are removed.\n",
        "🔹 Use Case: When you want automatic feature selection.\n",
        "3. Elastic Net Regression (Combination of L1 & L2)\n",
        "\n",
        "✅ Combines L1 (Lasso) and L2 (Ridge) penalties to balance feature selection and coefficient shrinkage.\n",
        "✅ Useful when features are highly correlated and some should be removed.\n",
        "✅ Controls both penalties using hyperparameters αα (mixing ratio) and λλ (regularization strength).\n",
        "Cost Function:\n",
        "J(θ)=Loss+λ1∑∣θj∣+λ2∑θj2\n",
        "J(θ)=Loss+λ1​∑∣θj​∣+λ2​∑θj2​\n",
        "\n",
        "🔹 Effect: Some coefficients become small, and some become zero (hybrid of Ridge and Lasso).\n",
        "🔹 Use Case: When you need both regularization and feature selection.\n",
        "\n",
        "-Use Ridge if all features are useful and you want to reduce overfitting.\n",
        "\n",
        "Use Lasso if you suspect some features are irrelevant and want automatic feature selection.\n",
        "\n",
        "Use Elastic Net if you have many correlated features and need a balance of Ridge & Lasso."
      ],
      "metadata": {
        "id": "W0qwv3pEUa7v"
      }
    },
    {
      "cell_type": "markdown",
      "source": [
        "7.When should we use Elastic Net instead of Lasso or Ridge\n",
        "\n",
        "-When to Use Elastic Net Instead of Lasso or Ridge\n",
        "\n",
        "Elastic Net is a hybrid approach that combines both Lasso (L1) and Ridge (L2) regression. You should use Elastic Net when:\n",
        "1. Features Are Highly Correlated ✅\n",
        "\n",
        "    Lasso (L1) struggles with correlated features and may arbitrarily select one while ignoring others.\n",
        "    Elastic Net handles this better by keeping some correlated features instead of dropping them completely.\n",
        "\n",
        "2. You Want Feature Selection, But Not Too Aggressive 🎯\n",
        "\n",
        "    Lasso shrinks some coefficients to zero, removing features entirely.\n",
        "    Elastic Net shrinks coefficients moderately, keeping useful features while still performing some feature selection.\n",
        "\n",
        "3. The Dataset Has Many Features (High-Dimensional Data) 📊\n",
        "\n",
        "    Lasso tends to remove too many features in sparse datasets.\n",
        "    Ridge keeps all features but might not generalize well.\n",
        "    Elastic Net balances feature selection and coefficient shrinkage, making it ideal for high-dimensional datasets.\n",
        "\n",
        "4. You Need a Balance Between Lasso & Ridge ⚖️\n",
        "\n",
        "    If Lasso is too aggressive in dropping features but Ridge retains too many, Elastic Net finds a middle ground.\n",
        "    You can control the balance using the hyperparameter α (mixing ratio):\n",
        "        α = 1 → Pure Lasso\n",
        "        α = 0 → Pure Ridge\n",
        "        0 < α < 1 → Mix of both"
      ],
      "metadata": {
        "id": "Liw03i0tU4P1"
      }
    },
    {
      "cell_type": "markdown",
      "source": [
        "8.What is the impact of the regularization parameter (λ) in Logistic Regression\n",
        "\n",
        "-Key Impacts of λλ:\n",
        "\n",
        "  - Controls Model Complexity ⚖️\n",
        "   \n",
        "    small λλ → Complex model, high variance.\n",
        "\n",
        "    Large λλ → Simpler model, reduced variance.\n",
        "       \n",
        "  -Affects Feature Weights (Shrinkage) 🎯\n",
        "  \n",
        "      Higher λλ reduces the magnitude of model coefficients θθ, making the model less sensitive to individual features.\n",
        "\n",
        "      In Lasso (L1) Regularization, large λλ forces some coefficients to zero, removing less important features.\n",
        "\n",
        "  -Prevents Overfitting & Underfitting 🔄\n",
        "\n",
        "      Low λλ → Model may memorize training data (overfitting).\n",
        "      High λλ → Model may become too simple (underfitting).\n",
        "\n",
        "  -Impacts Decision Boundary in Classification 📉\n",
        "\n",
        "      Small λλ → More flexible decision boundary.\n",
        "      Large λλ → More rigid, linear decision boundary."
      ],
      "metadata": {
        "id": "FPLLq2Q-VG20"
      }
    },
    {
      "cell_type": "markdown",
      "source": [
        "9.What are the key assumptions of Logistic Regression\n",
        "\n",
        "-1. No Perfect Multicollinearity 🚫\n",
        "\n",
        "    Independent variables should not be highly correlated with each other.\n",
        "    Solution: Use Variance Inflation Factor (VIF) to detect multicollinearity and remove/transform correlated features if needed.\n",
        "\n",
        "2. Linearity of Log-Odds (Not the Features!) 📈\n",
        "\n",
        "    Logistic Regression assumes a linear relationship between the independent variables and the log-odds of the dependent variable (not the raw output).\n",
        "    Equation:\n",
        "    log⁡(P(Y=1)1−P(Y=1))=b0+b1X1+b2X2+...+bnXn\n",
        "    log(1−P(Y=1)P(Y=1)​)=b0​+b1​X1​+b2​X2​+...+bn​Xn​\n",
        "    Solution: If violated, use polynomial features or non-linear transformations (e.g., log, square root).\n",
        "\n",
        "3. No Extreme Outliers ❌\n",
        "\n",
        "    Outliers can skew the model’s predictions.\n",
        "    Solution: Use boxplots or IQR method to detect and handle outliers.\n",
        "\n",
        "4. Independence of Observations 🔄\n",
        "\n",
        "    Each observation should be independent of others.\n",
        "    Common issue in time-series or grouped data (e.g., patient data from the same hospital).\n",
        "    Solution: Use Generalized Estimating Equations (GEE) or Mixed Models if dependencies exist.\n",
        "\n",
        "5. Sufficient Sample Size 📊\n",
        "\n",
        "    Logistic Regression requires a reasonable amount of data to make reliable predictions.\n",
        "    Rule of Thumb:\n",
        "        At least 10 observations per predictor variable.\n",
        "        More if dealing with imbalanced data.\n",
        "\n",
        "6. No Complete Separation of Classes\n",
        "\n",
        "    If a predictor perfectly separates the classes (e.g., XX always predicts YY with 100% certainty), the model may fail to learn properly.\n",
        "    Solution: Use L2 regularization (Ridge Logistic Regression) or collect more diverse data.\n",
        "\n"
      ],
      "metadata": {
        "id": "gPNe0uf6V8LX"
      }
    },
    {
      "cell_type": "markdown",
      "source": [
        "10.What are some alternatives to Logistic Regression for classification tasks\n",
        "\n",
        "-1. Decision Trees 🌳\n",
        "\n",
        "✅ Advantages:\n",
        "\n",
        "    Can capture non-linear relationships.\n",
        "    No need for feature scaling.\n",
        "    Handles missing values well.\n",
        "\n",
        "❌ Disadvantages:\n",
        "\n",
        "    Prone to overfitting without pruning.\n",
        "\n",
        "💡 Best for: When interpretability is important, and data has complex decision boundaries.\n",
        "2. Random Forest 🌲🌲\n",
        "\n",
        "✅ Advantages:\n",
        "\n",
        "    Ensemble method → combines multiple decision trees for better accuracy.\n",
        "    Reduces overfitting.\n",
        "\n",
        "❌ Disadvantages:\n",
        "\n",
        "    Less interpretable than Logistic Regression.\n",
        "\n",
        "💡 Best for: When high accuracy is needed, and overfitting must be controlled.\n",
        "3. Support Vector Machines (SVM) ✈️\n",
        "\n",
        "✅ Advantages:\n",
        "\n",
        "    Works well for high-dimensional data.\n",
        "    Can handle non-linear classification using kernels.\n",
        "\n",
        "❌ Disadvantages:\n",
        "\n",
        "    Computationally expensive for large datasets.\n",
        "\n",
        "💡 Best for: When data is not linearly separable and high-dimensional.\n",
        "4. k-Nearest Neighbors (k-NN) 📍\n",
        "\n",
        "✅ Advantages:\n",
        "\n",
        "    Simple and effective.\n",
        "    No training time; just stores data.\n",
        "\n",
        "❌ Disadvantages:\n",
        "\n",
        "    Computationally expensive at prediction time.\n",
        "    Sensitive to feature scaling.\n",
        "\n",
        "💡 Best for: When decision boundaries are complex and training time is a concern.\n",
        "5. Naïve Bayes 🤖\n",
        "\n",
        "✅ Advantages:\n",
        "\n",
        "    Works well with small datasets.\n",
        "    Handles text classification (e.g., spam filtering).\n",
        "\n",
        "❌ Disadvantages:\n",
        "\n",
        "    Assumes feature independence, which is often unrealistic.\n",
        "\n",
        "💡 Best for: Text classification and small datasets.\n",
        "6. Gradient Boosting (XGBoost, LightGBM, CatBoost) 🚀\n",
        "\n",
        "✅ Advantages:\n",
        "\n",
        "    Extremely powerful and accurate.\n",
        "    Handles missing values and categorical data well.\n",
        "\n",
        "❌ Disadvantages:\n",
        "\n",
        "    Computationally expensive.\n",
        "\n",
        "💡 Best for: Kaggle competitions and when you need state-of-the-art accuracy."
      ],
      "metadata": {
        "id": "lPANLfkyWO8C"
      }
    },
    {
      "cell_type": "markdown",
      "source": [
        "11.What are Classification Evaluation Metrics\n",
        "\n",
        "-1. Accuracy 📈\n",
        "Accuracy=Correct Predictions/Total Predictions\n",
        "\n",
        "✅ Good for balanced datasets\n",
        "❌ Misleading for imbalanced datasets (e.g., 99% accuracy in a 99:1 class ratio is not useful).\n",
        "\n",
        "🔹 Use When: Classes are balanced and misclassification costs are equal.\n",
        "2. Precision (Positive Predictive Value) 🎯\n",
        "Precision=True Positives (TP)/True Positives (TP)+False Positives (FP)\n",
        "​\n",
        "\n",
        "✅ Useful when False Positives are costly (e.g., spam detection, fraud detection).\n",
        "🔹 Use When: False alarms (FP) should be minimized.\n",
        "\n",
        "3. Recall (Sensitivity, True Positive Rate) 🔍\n",
        "Recall=True Positives (TP)/True Positives (TP)+False Negatives (FN)\n",
        "​\n",
        "\n",
        "✅ Useful when False Negatives are costly (e.g., disease detection, fraud prevention).\n",
        "🔹 Use When: Missing a positive case (FN) is critical.\n",
        "\n",
        "4. F1-Score ⚖️ (Harmonic Mean of Precision & Recall)\n",
        "F1-Score=2×Precision×Recall/Precision+Recall\n",
        "\n",
        "\n",
        "✅ Balances precision & recall.\n",
        "🔹 Use When: There’s a class imbalance and you need a trade-off between FP & FN.\n",
        "5. ROC Curve & AUC (Receiver Operating Characteristic) 🚀\n",
        "\n",
        "    ROC Curve plots True Positive Rate (Recall) vs. False Positive Rate (1 - Specificity) at different thresholds.\n",
        "    AUC (Area Under Curve):\n",
        "        1.0 → Perfect Model\n",
        "        0.5 → Random Guessing\n",
        "        < 0.5 → Worse than random\n",
        "\n",
        "✅ Measures overall model performance at different thresholds.\n",
        "🔹 Use When: You need a probabilistic evaluation.\n",
        "6. Log Loss (Logarithmic Loss) 📉\n",
        "Log Loss=−1N∑i=1N[yilog⁡(pi)+(1−yi)log⁡(1−pi)]\n",
        "\n",
        "✅ Used for probability-based models (e.g., Logistic Regression).\n",
        "🔹 Use When: You need probability-based confidence scores."
      ],
      "metadata": {
        "id": "7vVSfntRWhd2"
      }
    },
    {
      "cell_type": "markdown",
      "source": [
        "12. How does class imbalance affect Logistic Regression\n",
        "\n",
        "-1. Bias Towards the Majority Class\n",
        "\n",
        "    Logistic regression minimizes overall error, so when one class is much more frequent than the other, the model tends to predict the majority class more often.\n",
        "\n",
        "    This leads to poor recall for the minority class, meaning that many instances of the minority class may be misclassified.\n",
        "\n",
        "2. Misleading Accuracy\n",
        "\n",
        "    In highly imbalanced datasets, a model can achieve high accuracy by simply predicting the majority class.\n",
        "\n",
        "    Example: If 95% of cases belong to Class A and 5% to Class B, a naive model that predicts \"always Class A\" will be 95% accurate, but completely useless for detecting Class B.\n",
        "\n",
        "3. Poor Probability Estimates\n",
        "\n",
        "    Logistic regression estimates probabilities using the sigmoid function. With imbalanced data, these probabilities may become skewed, making threshold-based decision-making less reliable.\n",
        "\n",
        "4. Improper Decision Boundaries\n",
        "\n",
        "    The model may learn a biased decision boundary that does not properly separate the two classes.\n",
        "\n",
        "    This happens because the minority class has fewer examples to influence the model's learning.\n",
        "\n",
        "How to Handle Class Imbalance in Logistic Regression\n",
        "\n",
        "To mitigate these issues, several techniques can be applied:\n",
        "1. Resampling Techniques\n",
        "\n",
        "    Oversampling the Minority Class (e.g., SMOTE – Synthetic Minority Over-sampling Technique)\n",
        "\n",
        "    Undersampling the Majority Class (reducing the number of majority class samples)\n",
        "\n",
        "2. Class Weight Adjustment\n",
        "\n",
        "    Assign higher weights to the minority class in the logistic regression model (class_weight='balanced' in Scikit-learn).\n",
        "\n",
        "    This tells the model to penalize misclassification of the minority class more than the majority class.\n",
        "\n",
        "3. Using Different Evaluation Metrics\n",
        "\n",
        "    Instead of accuracy, use:\n",
        "\n",
        "        Precision-Recall Curve\n",
        "\n",
        "        F1 Score (harmonic mean of precision and recall)\n",
        "\n",
        "        ROC-AUC (Area under the Receiver Operating Characteristic curve)\n",
        "\n",
        "4. Threshold Tuning\n",
        "\n",
        "    By default, logistic regression uses a 0.5 probability threshold to classify a sample.\n",
        "\n",
        "    Adjusting this threshold can improve recall for the minority class."
      ],
      "metadata": {
        "id": "mnmMjS0puOwO"
      }
    },
    {
      "cell_type": "markdown",
      "source": [
        "13.What is Hyperparameter Tuning in Logistic Regression.\n",
        "\n",
        "-1️⃣ Regularization Strength (C)\n",
        "\n",
        "    Controls the inverse of the regularization strength (i.e., smaller C means stronger regularization).\n",
        "\n",
        "    Helps prevent overfitting.\n",
        "\n",
        "    Common values: C in [0.001, 0.01, 0.1, 1, 10, 100].\n",
        "\n",
        "2️⃣ Penalty Type (penalty)\n",
        "\n",
        "    Specifies the type of regularization:\n",
        "\n",
        "        L1 (Lasso): Leads to sparse models by eliminating some coefficients (feature selection).\n",
        "\n",
        "        L2 (Ridge): Shrinks coefficients but does not eliminate them.\n",
        "\n",
        "        ElasticNet: Combination of L1 and L2.\n",
        "\n",
        "    L1 is useful when you suspect that only a few features are relevant.\n",
        "\n",
        "3️⃣ Solver (solver)\n",
        "\n",
        "    Different optimization algorithms used to minimize the cost function:\n",
        "\n",
        "        ‘liblinear’: Works well for small datasets and supports L1 and L2 penalties.\n",
        "\n",
        "        ‘lbfgs’: Suitable for large datasets, supports only L2.\n",
        "\n",
        "        ‘saga’: Works well with L1 and L2 and large datasets.\n",
        "\n",
        "4️⃣ Class Weight (class_weight)\n",
        "\n",
        "    Helps deal with imbalanced datasets:\n",
        "\n",
        "        ‘balanced’: Automatically adjusts weights based on class frequencies.\n",
        "\n",
        "        Custom Weights: You can specify different weights for classes.\n",
        "\n",
        "5️⃣ Max Iterations (max_iter)\n",
        "\n",
        "    Controls the maximum number of iterations for solvers like ‘lbfgs’ and ‘saga’.\n",
        "\n",
        "    Increasing max_iter can help convergence for complex datasets.\n",
        "\n",
        "Hyperparameter Tuning Methods\n",
        "1️⃣ Grid Search (Brute Force Approach)\n",
        "\n",
        "    Tries all possible combinations of hyperparameters and selects the best.\n",
        "\n",
        "    Example using Scikit-learn:\n",
        "\n",
        "    from sklearn.model_selection import GridSearchCV\n",
        "    from sklearn.linear_model import LogisticRegression\n",
        "\n",
        "    param_grid = {\n",
        "        'C': [0.01, 0.1, 1, 10, 100],\n",
        "        'penalty': ['l1', 'l2'],\n",
        "        'solver': ['liblinear']\n",
        "    }\n",
        "\n",
        "    model = LogisticRegression()\n",
        "    grid_search = GridSearchCV(model, param_grid, cv=5, scoring='accuracy')\n",
        "    grid_search.fit(X_train, y_train)\n",
        "\n",
        "    print(\"Best Parameters:\", grid_search.best_params_)\n",
        "\n",
        "2️⃣ Randomized Search (Faster Alternative)\n",
        "\n",
        "    Instead of trying all combinations, it randomly samples a subset.\n",
        "\n",
        "    More efficient for large search spaces.\n",
        "\n",
        "    from sklearn.model_selection import RandomizedSearchCV\n",
        "    from scipy.stats import uniform\n",
        "\n",
        "    param_dist = {\n",
        "        'C': uniform(0.001, 10),\n",
        "        'penalty': ['l1', 'l2'],\n",
        "        'solver': ['liblinear']\n",
        "    }\n",
        "\n",
        "    model = LogisticRegression()\n",
        "    random_search = RandomizedSearchCV(model, param_distributions=param_dist, n_iter=10, cv=5, scoring='accuracy')\n",
        "    random_search.fit(X_train, y_train)\n",
        "\n",
        "    print(\"Best Parameters:\", random_search.best_params_)\n",
        "\n",
        "3️⃣ Bayesian Optimization (Smart Search)\n",
        "\n",
        "    Uses past results to predict better hyperparameter values.\n",
        "\n",
        "    Faster than Grid and Randomized Search.\n",
        "\n",
        "4️⃣ Automated Hyperparameter Tuning (Optuna, Hyperopt, etc.)\n",
        "\n",
        "    Libraries like Optuna and Hyperopt can optimize hyperparameters more efficiently."
      ],
      "metadata": {
        "id": "elj06FNkuyAq"
      }
    },
    {
      "cell_type": "markdown",
      "source": [
        "14.What are different solvers in Logistic Regression? Which one should be used\n",
        "\n",
        "-For small datasets: liblinear\n",
        "\n",
        "For large datasets: sag or saga\n",
        "\n",
        "For L1 regularization: saga or liblinear\n",
        "\n",
        "For ElasticNet regularization: saga\n",
        "\n",
        "For multiclass problems: lbfgs, newton-cg, or saga"
      ],
      "metadata": {
        "id": "TTey0Uheu8wI"
      }
    },
    {
      "cell_type": "markdown",
      "source": [
        "15. How is Logistic Regression extended for multiclass classification.\n",
        "\n",
        "-One-vs-Rest (OvR): Trains N models, good for imbalanced classes.\n",
        "\n",
        "Multinomial (Softmax): Uses a single model, good for balanced classes.\n",
        "\n",
        "Scikit-learn supports both using the multi_class parameter."
      ],
      "metadata": {
        "id": "0ZLcsjVIvIhZ"
      }
    },
    {
      "cell_type": "markdown",
      "source": [
        "16.What are the advantages and disadvantages of Logistic Regression.\n",
        "\n",
        "-✅ Advantages of Logistic Regression\n",
        "1️⃣ Simple and Interpretable\n",
        "\n",
        "    The model is easy to understand and explain.\n",
        "\n",
        "    Coefficients indicate the influence of each feature on the probability of an outcome.\n",
        "\n",
        "2️⃣ Fast and Efficient\n",
        "\n",
        "    Computationally inexpensive, making it ideal for small to medium-sized datasets.\n",
        "\n",
        "    Training is quick compared to more complex models like neural networks.\n",
        "\n",
        "3️⃣ Works Well with Linearly Separable Data\n",
        "\n",
        "    If the data is linearly separable, logistic regression performs well without the need for complex transformations.\n",
        "\n",
        "4️⃣ Outputs Probabilities\n",
        "\n",
        "    Unlike some other classification models (e.g., SVM), logistic regression provides probability scores for predictions, which can be useful for decision-making.\n",
        "\n",
        "5️⃣ Handles Multiclass Classification (With Extensions)\n",
        "\n",
        "    Can be extended to multiclass problems using One-vs-Rest (OvR) or Softmax (Multinomial) Regression.\n",
        "\n",
        "6️⃣ Regularization Support\n",
        "\n",
        "    Supports L1 (Lasso) and L2 (Ridge) regularization, which helps prevent overfitting.\n",
        "\n",
        "❌ Disadvantages of Logistic Regression\n",
        "1️⃣ Assumes a Linear Relationship Between Features and Log-Odds\n",
        "\n",
        "    Logistic regression assumes that the independent variables have a linear relationship with the log-odds of the dependent variable.\n",
        "\n",
        "    If the actual relationship is nonlinear, performance can be poor.\n",
        "\n",
        "2️⃣ Sensitive to Outliers\n",
        "\n",
        "    Outliers can heavily influence the model’s parameters, leading to poor performance.\n",
        "\n",
        "    Regularization or outlier removal is often necessary.\n",
        "\n",
        "3️⃣ Struggles with High-Dimensional Data\n",
        "\n",
        "    When the number of features is very large (e.g., thousands of features in NLP or genetics), logistic regression may overfit.\n",
        "\n",
        "    Feature selection or dimensionality reduction (PCA) is often needed.\n",
        "\n",
        "4️⃣ Not as Powerful as Complex Models\n",
        "\n",
        "    Logistic regression may not capture complex patterns in data compared to decision trees, random forests, or neural networks.\n",
        "\n",
        "5️⃣ Requires Balanced Classes\n",
        "\n",
        "    If one class is much more frequent than the other (class imbalance), the model tends to favor the majority class.\n",
        "\n",
        "    Solutions include class weighting, resampling (SMOTE), or threshold adjustment.\n",
        "\n",
        "6️⃣ Limited to Binary and Small Multiclass Problems\n",
        "\n",
        "    While it can handle multiple classes, it does not scale well to problems with a very large number of classes."
      ],
      "metadata": {
        "id": "mT-4KdDqvVvJ"
      }
    },
    {
      "cell_type": "markdown",
      "source": [
        "17.What are some use cases of Logistic Regression\n",
        "\n",
        "-1️⃣ Medical and Healthcare Applications\n",
        "✅ Disease Prediction & Diagnosis\n",
        "\n",
        "    Used to classify whether a patient has a disease (e.g., Diabetes, Cancer, Heart Disease) based on symptoms and medical test results.\n",
        "\n",
        "    Example: Predicting the likelihood of heart disease based on cholesterol levels, blood pressure, and lifestyle factors.\n",
        "\n",
        "✅ Patient Readmission Prediction\n",
        "\n",
        "    Helps hospitals predict whether a patient is likely to be readmitted within 30 days of discharge.\n",
        "\n",
        "2️⃣ Finance and Banking\n",
        "✅ Credit Scoring & Loan Default Prediction\n",
        "\n",
        "    Banks use logistic regression to determine whether a borrower will default on a loan based on financial history, credit score, and income level.\n",
        "\n",
        "✅ Fraud Detection\n",
        "\n",
        "    Helps classify transactions as fraudulent or non-fraudulent by analyzing patterns in banking transactions.\n",
        "\n",
        "3️⃣ Marketing and Customer Analytics\n",
        "✅ Customer Churn Prediction\n",
        "\n",
        "    Businesses predict whether a customer is likely to stop using a service based on engagement and past behavior.\n",
        "\n",
        "    Example: Telecom companies use logistic regression to predict customer churn.\n",
        "\n",
        "✅ Lead Scoring\n",
        "\n",
        "    Used to determine if a potential customer is likely to convert based on demographic and behavioral data.\n",
        "\n",
        "4️⃣ Human Resources (HR)\n",
        "✅ Employee Attrition Prediction\n",
        "\n",
        "    HR departments use logistic regression to predict whether an employee will resign or stay based on work conditions, salary, and job satisfaction.\n",
        "\n",
        "✅ Hiring Decisions\n",
        "\n",
        "    Used to classify candidates as suitable or not suitable based on resume data and test scores.\n",
        "\n",
        "5️⃣ E-commerce and Retail\n",
        "✅ Product Recommendation\n",
        "\n",
        "    Used to classify whether a user will buy a product or not based on browsing history and preferences.\n",
        "\n",
        "✅ Demand Prediction\n",
        "\n",
        "    Helps businesses forecast demand by predicting whether a product will sell in a specific time frame.\n",
        "\n",
        "6️⃣ Social Media and Digital Platforms\n",
        "✅ Spam Detection\n",
        "\n",
        "    Email services (e.g., Gmail) use logistic regression to classify emails as spam or not spam.\n",
        "\n",
        "✅ Sentiment Analysis\n",
        "\n",
        "    Helps classify customer reviews or social media posts as positive or negative.\n",
        "    7️⃣ Industrial and Manufacturing\n",
        "✅ Equipment Failure Prediction\n",
        "\n",
        "    Used in predictive maintenance to classify whether a machine will fail within a given period based on sensor data."
      ],
      "metadata": {
        "id": "ALNvPZG4vprX"
      }
    },
    {
      "cell_type": "markdown",
      "source": [
        "18.What is the difference between Softmax Regression and Logistic Regression\n",
        "\n",
        "-Logistic Regression → Used for binary classification, uses sigmoid activation.\n",
        "\n",
        "Softmax Regression → Used for multiclass classification, uses softmax activation.\n",
        "\n",
        "Both use logistic-based loss functions (cross-entropy loss) but differ in their output and activation functions.\n",
        "\n",
        "Softmax Regression generalizes Logistic Regression for multiple classes."
      ],
      "metadata": {
        "id": "N2rtzuv-v3do"
      }
    },
    {
      "cell_type": "markdown",
      "source": [
        "19.How do we choose between One-vs-Rest (OvR) and Softmax for multiclass classification\n",
        "\n",
        "-OvR: Trains multiple binary classifiers, good for large numbers of classes and imbalanced data.\n",
        "\n",
        "Softmax: Trains one model for all classes, good for smaller class sizes and better probability estimates.\n",
        "\n",
        "Rule of Thumb:\n",
        "\n",
        "    If few classes (e.g., < 10) → Use Softmax Regression\n",
        "\n",
        "    If many classes (e.g., > 100) → Use One-vs-Rest (OvR)"
      ],
      "metadata": {
        "id": "QS6WUgKRwSF7"
      }
    },
    {
      "cell_type": "markdown",
      "source": [
        "20.How do we interpret coefficients in Logistic Regression\n",
        "\n",
        "-Logistic Regression coefficients represent changes in log-odds.\n",
        "\n",
        "Convert them to Odds Ratios using eβeβ for easier interpretation.\n",
        "\n",
        "Positive coefficients → Increase the likelihood of outcome.\n",
        "\n",
        "Negative coefficients → Decrease the likelihood of outcome.\n",
        "\n",
        "Larger absolute coefficients → Stronger impact on prediction.\n",
        "\n",
        "In multiclass regression, coefficients compare each class against a reference class."
      ],
      "metadata": {
        "id": "Wkj9E-mVwg2D"
      }
    },
    {
      "cell_type": "markdown",
      "source": [
        "**PRACTICAL**"
      ],
      "metadata": {
        "id": "6X5FKITVxiCU"
      }
    },
    {
      "cell_type": "markdown",
      "source": [
        "1.Write a Python program that loads a dataset, splits it into training and testing sets, applies Logistic\n",
        "Regression, and prints the model accuracy\n",
        "\n",
        "\n"
      ],
      "metadata": {
        "id": "qA8pXQIwxnex"
      }
    },
    {
      "cell_type": "code",
      "source": [
        "import numpy as np\n",
        "import pandas as pd\n",
        "from sklearn.model_selection import train_test_split\n",
        "from sklearn.linear_model import LogisticRegression\n",
        "from sklearn.metrics import accuracy_score\n",
        "from sklearn.datasets import load_iris\n",
        "\n",
        "# Load dataset (Iris dataset as an example)\n",
        "data = load_iris()\n",
        "X = data.data\n",
        "y = data.target\n",
        "\n",
        "# Split into training (80%) and testing (20%) sets\n",
        "X_train, X_test, y_train, y_test = train_test_split(X, y, test_size=0.2, random_state=42)\n",
        "\n",
        "# Create and train the Logistic Regression model\n",
        "model = LogisticRegression(multi_class='multinomial', solver='lbfgs', max_iter=200)\n",
        "model.fit(X_train, y_train)\n",
        "\n",
        "# Make predictions\n",
        "y_pred = model.predict(X_test)\n",
        "\n",
        "# Calculate accuracy\n",
        "accuracy = accuracy_score(y_test, y_pred)\n",
        "\n",
        "# Print model accuracy\n",
        "print(f\"Logistic Regression Model Accuracy: {accuracy:.2f}\")\n"
      ],
      "metadata": {
        "id": "wnA6_x4SS3aW",
        "colab": {
          "base_uri": "https://localhost:8080/"
        },
        "outputId": "dc9bf0ad-73a9-4f64-b364-19740d5abfd6"
      },
      "execution_count": 1,
      "outputs": [
        {
          "output_type": "stream",
          "name": "stdout",
          "text": [
            "Logistic Regression Model Accuracy: 1.00\n"
          ]
        },
        {
          "output_type": "stream",
          "name": "stderr",
          "text": [
            "/usr/local/lib/python3.11/dist-packages/sklearn/linear_model/_logistic.py:1247: FutureWarning: 'multi_class' was deprecated in version 1.5 and will be removed in 1.7. From then on, it will always use 'multinomial'. Leave it to its default value to avoid this warning.\n",
            "  warnings.warn(\n"
          ]
        }
      ]
    },
    {
      "cell_type": "markdown",
      "source": [
        "2. Write a Python program to apply L1 regularization (Lasso) on a dataset using LogisticRegression(penalty='l1')\n",
        "and print the model accuracy"
      ],
      "metadata": {
        "id": "xag52TOKx00u"
      }
    },
    {
      "cell_type": "code",
      "source": [
        "import numpy as np\n",
        "import pandas as pd\n",
        "from sklearn.model_selection import train_test_split\n",
        "from sklearn.linear_model import LogisticRegression\n",
        "from sklearn.metrics import accuracy_score\n",
        "from sklearn.datasets import load_iris\n",
        "from sklearn.preprocessing import StandardScaler\n",
        "\n",
        "# Load dataset (Iris dataset as an example)\n",
        "data = load_iris()\n",
        "X = data.data\n",
        "y = data.target\n",
        "\n",
        "# Split into training (80%) and testing (20%) sets\n",
        "X_train, X_test, y_train, y_test = train_test_split(X, y, test_size=0.2, random_state=42)\n",
        "\n",
        "# Standardize features (important for L1 regularization)\n",
        "scaler = StandardScaler()\n",
        "X_train = scaler.fit_transform(X_train)\n",
        "X_test = scaler.transform(X_test)\n",
        "\n",
        "# Create and train Logistic Regression model with L1 regularization (Lasso)\n",
        "model = LogisticRegression(penalty='l1', solver='liblinear', max_iter=200)\n",
        "model.fit(X_train, y_train)\n",
        "\n",
        "# Make predictions\n",
        "y_pred = model.predict(X_test)\n",
        "\n",
        "# Calculate accuracy\n",
        "accuracy = accuracy_score(y_test, y_pred)\n",
        "\n",
        "# Print model accuracy\n",
        "print(f\"Logistic Regression with L1 Regularization (Lasso) Accuracy: {accuracy:.2f}\")\n",
        "\n",
        "# Print coefficients (L1 can shrink some to zero)\n",
        "print(\"Model Coefficients:\", model.coef_)\n"
      ],
      "metadata": {
        "colab": {
          "base_uri": "https://localhost:8080/"
        },
        "id": "D3yqjh0MxwF7",
        "outputId": "9330b84f-15f0-4660-a619-3d56d21be5ad"
      },
      "execution_count": 2,
      "outputs": [
        {
          "output_type": "stream",
          "name": "stdout",
          "text": [
            "Logistic Regression with L1 Regularization (Lasso) Accuracy: 0.97\n",
            "Model Coefficients: [[ 0.          1.18017496 -4.14070674  0.        ]\n",
            " [ 0.31619305 -1.33970781  0.         -0.27026678]\n",
            " [ 0.         -0.57051589  2.49326392  3.99785599]]\n"
          ]
        }
      ]
    },
    {
      "cell_type": "markdown",
      "source": [
        "3.Write a Python program to train Logistic Regression with L2 regularization (Ridge) using\n",
        "LogisticRegression(penalty='l2'). Print model accuracy and coefficients"
      ],
      "metadata": {
        "id": "fQVx_yusx-c-"
      }
    },
    {
      "cell_type": "code",
      "source": [
        "import numpy as np\n",
        "import pandas as pd\n",
        "from sklearn.model_selection import train_test_split\n",
        "from sklearn.linear_model import LogisticRegression\n",
        "from sklearn.metrics import accuracy_score\n",
        "from sklearn.datasets import load_iris\n",
        "from sklearn.preprocessing import StandardScaler\n",
        "\n",
        "# Load dataset (Iris dataset as an example)\n",
        "data = load_iris()\n",
        "X = data.data\n",
        "y = data.target\n",
        "\n",
        "# Split into training (80%) and testing (20%) sets\n",
        "X_train, X_test, y_train, y_test = train_test_split(X, y, test_size=0.2, random_state=42)\n",
        "\n",
        "# Standardize features (important for regularization)\n",
        "scaler = StandardScaler()\n",
        "X_train = scaler.fit_transform(X_train)\n",
        "X_test = scaler.transform(X_test)\n",
        "\n",
        "# Create and train Logistic Regression model with L2 regularization (Ridge)\n",
        "model = LogisticRegression(penalty='l2', solver='lbfgs', max_iter=200)\n",
        "model.fit(X_train, y_train)\n",
        "\n",
        "# Make predictions\n",
        "y_pred = model.predict(X_test)\n",
        "\n",
        "# Calculate accuracy\n",
        "accuracy = accuracy_score(y_test, y_pred)\n",
        "\n",
        "# Print model accuracy\n",
        "print(f\"Logistic Regression with L2 Regularization (Ridge) Accuracy: {accuracy:.2f}\")\n",
        "\n",
        "# Print model coefficients\n",
        "print(\"Model Coefficients:\", model.coef_)\n"
      ],
      "metadata": {
        "colab": {
          "base_uri": "https://localhost:8080/"
        },
        "id": "bEwUaP6ox9dM",
        "outputId": "1822f71a-e1a1-41e3-aa27-d6a975289399"
      },
      "execution_count": 3,
      "outputs": [
        {
          "output_type": "stream",
          "name": "stdout",
          "text": [
            "Logistic Regression with L2 Regularization (Ridge) Accuracy: 1.00\n",
            "Model Coefficients: [[-1.00316587  1.14487318 -1.8113482  -1.69251025]\n",
            " [ 0.52799044 -0.28319987 -0.34060665 -0.72013959]\n",
            " [ 0.47517543 -0.86167331  2.15195485  2.41264984]]\n"
          ]
        }
      ]
    },
    {
      "cell_type": "markdown",
      "source": [
        "4.Write a Python program to train Logistic Regression with Elastic Net Regularization (penalty='elasticnet')"
      ],
      "metadata": {
        "id": "nmTrSEUMyJIs"
      }
    },
    {
      "cell_type": "code",
      "source": [
        "import numpy as np\n",
        "import pandas as pd\n",
        "from sklearn.model_selection import train_test_split\n",
        "from sklearn.linear_model import LogisticRegression\n",
        "from sklearn.metrics import accuracy_score\n",
        "from sklearn.datasets import load_iris\n",
        "from sklearn.preprocessing import StandardScaler\n",
        "\n",
        "# Load dataset (Iris dataset as an example)\n",
        "data = load_iris()\n",
        "X = data.data\n",
        "y = data.target\n",
        "\n",
        "# Split into training (80%) and testing (20%) sets\n",
        "X_train, X_test, y_train, y_test = train_test_split(X, y, test_size=0.2, random_state=42)\n",
        "\n",
        "# Standardize features (important for regularization)\n",
        "scaler = StandardScaler()\n",
        "X_train = scaler.fit_transform(X_train)\n",
        "X_test = scaler.transform(X_test)\n",
        "\n",
        "# Create and train Logistic Regression model with Elastic Net regularization\n",
        "model = LogisticRegression(penalty='elasticnet', solver='saga', l1_ratio=0.5, max_iter=200)\n",
        "model.fit(X_train, y_train)\n",
        "\n",
        "# Make predictions\n",
        "y_pred = model.predict(X_test)\n",
        "\n",
        "# Calculate accuracy\n",
        "accuracy = accuracy_score(y_test, y_pred)\n",
        "\n",
        "# Print model accuracy\n",
        "print(f\"Logistic Regression with Elastic Net Regularization Accuracy: {accuracy:.2f}\")\n",
        "\n",
        "# Print model coefficients\n",
        "print(\"Model Coefficients:\", model.coef_)\n"
      ],
      "metadata": {
        "colab": {
          "base_uri": "https://localhost:8080/"
        },
        "id": "HvR8zq3PyIBg",
        "outputId": "4755f73e-c690-4e7b-db08-28347e160eba"
      },
      "execution_count": 4,
      "outputs": [
        {
          "output_type": "stream",
          "name": "stdout",
          "text": [
            "Logistic Regression with Elastic Net Regularization Accuracy: 1.00\n",
            "Model Coefficients: [[-0.7956646   1.18003781 -1.95761824 -1.71424437]\n",
            " [ 0.08267953  0.          0.         -0.35827145]\n",
            " [ 0.         -0.66848199  2.73080462  3.0604241 ]]\n"
          ]
        }
      ]
    },
    {
      "cell_type": "markdown",
      "source": [
        "5.Write a Python program to train a Logistic Regression model for multiclass classification using\n",
        "multi_class='ovr'"
      ],
      "metadata": {
        "id": "wLZ8VGOQyVCp"
      }
    },
    {
      "cell_type": "code",
      "source": [
        "import numpy as np\n",
        "import pandas as pd\n",
        "from sklearn.model_selection import train_test_split\n",
        "from sklearn.linear_model import LogisticRegression\n",
        "from sklearn.metrics import accuracy_score\n",
        "from sklearn.datasets import load_iris\n",
        "from sklearn.preprocessing import StandardScaler\n",
        "\n",
        "# Load dataset (Iris dataset with 3 classes)\n",
        "data = load_iris()\n",
        "X = data.data\n",
        "y = data.target\n",
        "\n",
        "# Split into training (80%) and testing (20%) sets\n",
        "X_train, X_test, y_train, y_test = train_test_split(X, y, test_size=0.2, random_state=42)\n",
        "\n",
        "# Standardize features (important for Logistic Regression)\n",
        "scaler = StandardScaler()\n",
        "X_train = scaler.fit_transform(X_train)\n",
        "X_test = scaler.transform(X_test)\n",
        "\n",
        "# Create and train Logistic Regression model for multiclass classification using One-vs-Rest (OvR)\n",
        "model = LogisticRegression(multi_class='ovr', solver='liblinear', max_iter=200)\n",
        "model.fit(X_train, y_train)\n",
        "\n",
        "# Make predictions\n",
        "y_pred = model.predict(X_test)\n",
        "\n",
        "# Calculate accuracy\n",
        "accuracy = accuracy_score(y_test, y_pred)\n",
        "\n",
        "# Print model accuracy\n",
        "print(f\"Logistic Regression with One-vs-Rest (OvR) Accuracy: {accuracy:.2f}\")\n",
        "\n",
        "# Print model coefficients\n",
        "print(\"Model Coefficients:\", model.coef_)\n"
      ],
      "metadata": {
        "colab": {
          "base_uri": "https://localhost:8080/"
        },
        "id": "_2-YdHCxyT9g",
        "outputId": "855fbf3d-653b-4a81-9baa-f2372ab677b4"
      },
      "execution_count": 6,
      "outputs": [
        {
          "output_type": "stream",
          "name": "stdout",
          "text": [
            "Logistic Regression with One-vs-Rest (OvR) Accuracy: 0.97\n",
            "Model Coefficients: [[-0.77929311  1.3519912  -1.59627349 -1.42737302]\n",
            " [ 0.25113137 -1.26696209  0.55078399 -0.73931909]\n",
            " [ 0.0180311  -0.20827858  1.73529514  2.39229869]]\n"
          ]
        },
        {
          "output_type": "stream",
          "name": "stderr",
          "text": [
            "/usr/local/lib/python3.11/dist-packages/sklearn/linear_model/_logistic.py:1256: FutureWarning: 'multi_class' was deprecated in version 1.5 and will be removed in 1.7. Use OneVsRestClassifier(LogisticRegression(..)) instead. Leave it to its default value to avoid this warning.\n",
            "  warnings.warn(\n"
          ]
        }
      ]
    },
    {
      "cell_type": "markdown",
      "source": [
        "6.Write a Python program to apply GridSearchCV to tune the hyperparameters (C and penalty) of Logistic\n",
        "Regression. Print the best parameters and accuracy"
      ],
      "metadata": {
        "id": "pmEml_a4yjhS"
      }
    },
    {
      "cell_type": "code",
      "source": [
        "import numpy as np\n",
        "import pandas as pd\n",
        "from sklearn.model_selection import train_test_split, GridSearchCV\n",
        "from sklearn.linear_model import LogisticRegression\n",
        "from sklearn.metrics import accuracy_score\n",
        "from sklearn.datasets import load_iris\n",
        "from sklearn.preprocessing import StandardScaler\n",
        "\n",
        "# Load dataset (Iris dataset as an example)\n",
        "data = load_iris()\n",
        "X = data.data\n",
        "y = data.target\n",
        "\n",
        "# Split into training (80%) and testing (20%) sets\n",
        "X_train, X_test, y_train, y_test = train_test_split(X, y, test_size=0.2, random_state=42)\n",
        "\n",
        "# Standardize features (important for regularization)\n",
        "scaler = StandardScaler()\n",
        "X_train = scaler.fit_transform(X_train)\n",
        "X_test = scaler.transform(X_test)\n",
        "\n",
        "# Define the parameter grid for GridSearchCV\n",
        "param_grid = {\n",
        "    'C': [0.01, 0.1, 1, 10, 100],  # Regularization strength\n",
        "    'penalty': ['l1', 'l2'],  # Lasso (L1) and Ridge (L2)\n",
        "    'solver': ['liblinear']  # 'liblinear' supports both L1 and L2\n",
        "}\n",
        "\n",
        "# Create a Logistic Regression model\n",
        "logreg = LogisticRegression(max_iter=200)\n",
        "\n",
        "# Apply GridSearchCV for hyperparameter tuning\n",
        "grid_search = GridSearchCV(logreg, param_grid, cv=5, scoring='accuracy', n_jobs=-1)\n",
        "grid_search.fit(X_train, y_train)\n",
        "\n",
        "# Get the best parameters and model\n",
        "best_params = grid_search.best_params_\n",
        "best_model = grid_search.best_estimator_\n",
        "\n",
        "# Make predictions using the best model\n",
        "y_pred = best_model.predict(X_test)\n",
        "\n",
        "# Calculate accuracy\n",
        "accuracy = accuracy_score(y_test, y_pred)\n",
        "\n",
        "# Print best parameters and accuracy\n",
        "print(f\"Best Parameters: {best_params}\")\n",
        "print(f\"Best Model Accuracy on Test Set: {accuracy:.2f}\")\n"
      ],
      "metadata": {
        "colab": {
          "base_uri": "https://localhost:8080/"
        },
        "id": "Oks5uSNMyiuV",
        "outputId": "d9689ef3-eabc-4d95-f910-25b26eed0370"
      },
      "execution_count": 7,
      "outputs": [
        {
          "output_type": "stream",
          "name": "stdout",
          "text": [
            "Best Parameters: {'C': 10, 'penalty': 'l1', 'solver': 'liblinear'}\n",
            "Best Model Accuracy on Test Set: 1.00\n"
          ]
        }
      ]
    },
    {
      "cell_type": "markdown",
      "source": [
        "7.Write a Python program to evaluate Logistic Regression using Stratified K-Fold Cross-Validation. Print the\n",
        "average accuracy"
      ],
      "metadata": {
        "id": "z6OwOPI9ytjy"
      }
    },
    {
      "cell_type": "code",
      "source": [
        "import numpy as np\n",
        "import pandas as pd\n",
        "from sklearn.model_selection import StratifiedKFold, cross_val_score\n",
        "from sklearn.linear_model import LogisticRegression\n",
        "from sklearn.datasets import load_iris\n",
        "from sklearn.preprocessing import StandardScaler\n",
        "\n",
        "# Load dataset (Iris dataset as an example)\n",
        "data = load_iris()\n",
        "X = data.data\n",
        "y = data.target\n",
        "\n",
        "# Standardize features (important for Logistic Regression)\n",
        "scaler = StandardScaler()\n",
        "X = scaler.fit_transform(X)\n",
        "\n",
        "# Define Logistic Regression model\n",
        "model = LogisticRegression(multi_class='ovr', solver='liblinear', max_iter=200)\n",
        "\n",
        "# Define Stratified K-Fold Cross-Validation (K=5)\n",
        "kf = StratifiedKFold(n_splits=5, shuffle=True, random_state=42)\n",
        "\n",
        "# Perform cross-validation and compute accuracy scores\n",
        "scores = cross_val_score(model, X, y, cv=kf, scoring='accuracy')\n",
        "\n",
        "# Print individual fold accuracies\n",
        "print(f\"Cross-Validation Accuracies: {scores}\")\n",
        "\n",
        "# Print average accuracy\n",
        "print(f\"Average Accuracy: {scores.mean():.2f}\")\n"
      ],
      "metadata": {
        "colab": {
          "base_uri": "https://localhost:8080/"
        },
        "id": "8Rx5QZwCy1Ul",
        "outputId": "9f048cc0-4446-4a71-b455-8edba9a464e3"
      },
      "execution_count": 8,
      "outputs": [
        {
          "output_type": "stream",
          "name": "stdout",
          "text": [
            "Cross-Validation Accuracies: [0.93333333 0.96666667 0.8        0.93333333 0.86666667]\n",
            "Average Accuracy: 0.90\n"
          ]
        },
        {
          "output_type": "stream",
          "name": "stderr",
          "text": [
            "/usr/local/lib/python3.11/dist-packages/sklearn/linear_model/_logistic.py:1256: FutureWarning: 'multi_class' was deprecated in version 1.5 and will be removed in 1.7. Use OneVsRestClassifier(LogisticRegression(..)) instead. Leave it to its default value to avoid this warning.\n",
            "  warnings.warn(\n",
            "/usr/local/lib/python3.11/dist-packages/sklearn/linear_model/_logistic.py:1256: FutureWarning: 'multi_class' was deprecated in version 1.5 and will be removed in 1.7. Use OneVsRestClassifier(LogisticRegression(..)) instead. Leave it to its default value to avoid this warning.\n",
            "  warnings.warn(\n",
            "/usr/local/lib/python3.11/dist-packages/sklearn/linear_model/_logistic.py:1256: FutureWarning: 'multi_class' was deprecated in version 1.5 and will be removed in 1.7. Use OneVsRestClassifier(LogisticRegression(..)) instead. Leave it to its default value to avoid this warning.\n",
            "  warnings.warn(\n",
            "/usr/local/lib/python3.11/dist-packages/sklearn/linear_model/_logistic.py:1256: FutureWarning: 'multi_class' was deprecated in version 1.5 and will be removed in 1.7. Use OneVsRestClassifier(LogisticRegression(..)) instead. Leave it to its default value to avoid this warning.\n",
            "  warnings.warn(\n",
            "/usr/local/lib/python3.11/dist-packages/sklearn/linear_model/_logistic.py:1256: FutureWarning: 'multi_class' was deprecated in version 1.5 and will be removed in 1.7. Use OneVsRestClassifier(LogisticRegression(..)) instead. Leave it to its default value to avoid this warning.\n",
            "  warnings.warn(\n"
          ]
        }
      ]
    },
    {
      "cell_type": "markdown",
      "source": [
        "8.C Write a Python program to load a dataset from a CSV file, apply Logistic Regression, and evaluate its\n",
        "accuracy"
      ],
      "metadata": {
        "id": "2xvxW8vWy4uE"
      }
    },
    {
      "cell_type": "code",
      "source": [
        "import numpy as np\n",
        "import pandas as pd\n",
        "from sklearn.model_selection import train_test_split\n",
        "from sklearn.linear_model import LogisticRegression\n",
        "from sklearn.metrics import accuracy_score\n",
        "from sklearn.preprocessing import StandardScaler\n",
        "\n",
        "# Load dataset from CSV file (update the filename)\n",
        "file_path = \"/content/autos_dataset (1).csv\"  # Change this to your actual CSV file\n",
        "df = pd.read_csv(file_path)\n",
        "\n",
        "# Assume the last column is the target (update column names if needed)\n",
        "X = df.iloc[:, :-1]  # Features (all columns except last)\n",
        "y = df.iloc[:, -1]   # Target variable (last column)\n",
        "\n",
        "# Split into training (80%) and testing (20%) sets\n",
        "X_train, X_test, y_train, y_test = train_test_split(X, y, test_size=0.2, random_state=42)\n",
        "\n",
        "# Standardize features (important for Logistic Regression)\n",
        "scaler = StandardScaler()\n",
        "X_train = scaler.fit_transform(X_train)\n",
        "X_test = scaler.transform(X_test)\n",
        "\n",
        "# Create and train Logistic Regression model\n",
        "model = LogisticRegression(max_iter=200)\n",
        "model.fit(X_train, y_train)\n",
        "\n",
        "# Make predictions\n",
        "y_pred = model.predict(X_test)\n",
        "\n",
        "# Calculate accuracy\n",
        "accuracy = accuracy_score(y_test, y_pred)\n",
        "\n",
        "# Print model accuracy\n",
        "print(f\"Logistic Regression Model Accuracy: {accuracy:.2f}\")\n"
      ],
      "metadata": {
        "colab": {
          "base_uri": "https://localhost:8080/",
          "height": 356
        },
        "id": "EdOr4_ooy308",
        "outputId": "be7a0175-cb41-4383-d6da-57ea6c413aad"
      },
      "execution_count": 10,
      "outputs": [
        {
          "output_type": "error",
          "ename": "ValueError",
          "evalue": "could not convert string to float: '?'",
          "traceback": [
            "\u001b[0;31m---------------------------------------------------------------------------\u001b[0m",
            "\u001b[0;31mValueError\u001b[0m                                Traceback (most recent call last)",
            "\u001b[0;32m<ipython-input-10-72b44fd64d67>\u001b[0m in \u001b[0;36m<cell line: 0>\u001b[0;34m()\u001b[0m\n\u001b[1;32m     19\u001b[0m \u001b[0;31m# Standardize features (important for Logistic Regression)\u001b[0m\u001b[0;34m\u001b[0m\u001b[0;34m\u001b[0m\u001b[0m\n\u001b[1;32m     20\u001b[0m \u001b[0mscaler\u001b[0m \u001b[0;34m=\u001b[0m \u001b[0mStandardScaler\u001b[0m\u001b[0;34m(\u001b[0m\u001b[0;34m)\u001b[0m\u001b[0;34m\u001b[0m\u001b[0;34m\u001b[0m\u001b[0m\n\u001b[0;32m---> 21\u001b[0;31m \u001b[0mX_train\u001b[0m \u001b[0;34m=\u001b[0m \u001b[0mscaler\u001b[0m\u001b[0;34m.\u001b[0m\u001b[0mfit_transform\u001b[0m\u001b[0;34m(\u001b[0m\u001b[0mX_train\u001b[0m\u001b[0;34m)\u001b[0m\u001b[0;34m\u001b[0m\u001b[0;34m\u001b[0m\u001b[0m\n\u001b[0m\u001b[1;32m     22\u001b[0m \u001b[0mX_test\u001b[0m \u001b[0;34m=\u001b[0m \u001b[0mscaler\u001b[0m\u001b[0;34m.\u001b[0m\u001b[0mtransform\u001b[0m\u001b[0;34m(\u001b[0m\u001b[0mX_test\u001b[0m\u001b[0;34m)\u001b[0m\u001b[0;34m\u001b[0m\u001b[0;34m\u001b[0m\u001b[0m\n\u001b[1;32m     23\u001b[0m \u001b[0;34m\u001b[0m\u001b[0m\n",
            "\u001b[0;32m/usr/local/lib/python3.11/dist-packages/sklearn/utils/_set_output.py\u001b[0m in \u001b[0;36mwrapped\u001b[0;34m(self, X, *args, **kwargs)\u001b[0m\n\u001b[1;32m    317\u001b[0m     \u001b[0;34m@\u001b[0m\u001b[0mwraps\u001b[0m\u001b[0;34m(\u001b[0m\u001b[0mf\u001b[0m\u001b[0;34m)\u001b[0m\u001b[0;34m\u001b[0m\u001b[0;34m\u001b[0m\u001b[0m\n\u001b[1;32m    318\u001b[0m     \u001b[0;32mdef\u001b[0m \u001b[0mwrapped\u001b[0m\u001b[0;34m(\u001b[0m\u001b[0mself\u001b[0m\u001b[0;34m,\u001b[0m \u001b[0mX\u001b[0m\u001b[0;34m,\u001b[0m \u001b[0;34m*\u001b[0m\u001b[0margs\u001b[0m\u001b[0;34m,\u001b[0m \u001b[0;34m**\u001b[0m\u001b[0mkwargs\u001b[0m\u001b[0;34m)\u001b[0m\u001b[0;34m:\u001b[0m\u001b[0;34m\u001b[0m\u001b[0;34m\u001b[0m\u001b[0m\n\u001b[0;32m--> 319\u001b[0;31m         \u001b[0mdata_to_wrap\u001b[0m \u001b[0;34m=\u001b[0m \u001b[0mf\u001b[0m\u001b[0;34m(\u001b[0m\u001b[0mself\u001b[0m\u001b[0;34m,\u001b[0m \u001b[0mX\u001b[0m\u001b[0;34m,\u001b[0m \u001b[0;34m*\u001b[0m\u001b[0margs\u001b[0m\u001b[0;34m,\u001b[0m \u001b[0;34m**\u001b[0m\u001b[0mkwargs\u001b[0m\u001b[0;34m)\u001b[0m\u001b[0;34m\u001b[0m\u001b[0;34m\u001b[0m\u001b[0m\n\u001b[0m\u001b[1;32m    320\u001b[0m         \u001b[0;32mif\u001b[0m \u001b[0misinstance\u001b[0m\u001b[0;34m(\u001b[0m\u001b[0mdata_to_wrap\u001b[0m\u001b[0;34m,\u001b[0m \u001b[0mtuple\u001b[0m\u001b[0;34m)\u001b[0m\u001b[0;34m:\u001b[0m\u001b[0;34m\u001b[0m\u001b[0;34m\u001b[0m\u001b[0m\n\u001b[1;32m    321\u001b[0m             \u001b[0;31m# only wrap the first output for cross decomposition\u001b[0m\u001b[0;34m\u001b[0m\u001b[0;34m\u001b[0m\u001b[0m\n",
            "\u001b[0;32m/usr/local/lib/python3.11/dist-packages/sklearn/base.py\u001b[0m in \u001b[0;36mfit_transform\u001b[0;34m(self, X, y, **fit_params)\u001b[0m\n\u001b[1;32m    916\u001b[0m         \u001b[0;32mif\u001b[0m \u001b[0my\u001b[0m \u001b[0;32mis\u001b[0m \u001b[0;32mNone\u001b[0m\u001b[0;34m:\u001b[0m\u001b[0;34m\u001b[0m\u001b[0;34m\u001b[0m\u001b[0m\n\u001b[1;32m    917\u001b[0m             \u001b[0;31m# fit method of arity 1 (unsupervised transformation)\u001b[0m\u001b[0;34m\u001b[0m\u001b[0;34m\u001b[0m\u001b[0m\n\u001b[0;32m--> 918\u001b[0;31m             \u001b[0;32mreturn\u001b[0m \u001b[0mself\u001b[0m\u001b[0;34m.\u001b[0m\u001b[0mfit\u001b[0m\u001b[0;34m(\u001b[0m\u001b[0mX\u001b[0m\u001b[0;34m,\u001b[0m \u001b[0;34m**\u001b[0m\u001b[0mfit_params\u001b[0m\u001b[0;34m)\u001b[0m\u001b[0;34m.\u001b[0m\u001b[0mtransform\u001b[0m\u001b[0;34m(\u001b[0m\u001b[0mX\u001b[0m\u001b[0;34m)\u001b[0m\u001b[0;34m\u001b[0m\u001b[0;34m\u001b[0m\u001b[0m\n\u001b[0m\u001b[1;32m    919\u001b[0m         \u001b[0;32melse\u001b[0m\u001b[0;34m:\u001b[0m\u001b[0;34m\u001b[0m\u001b[0;34m\u001b[0m\u001b[0m\n\u001b[1;32m    920\u001b[0m             \u001b[0;31m# fit method of arity 2 (supervised transformation)\u001b[0m\u001b[0;34m\u001b[0m\u001b[0;34m\u001b[0m\u001b[0m\n",
            "\u001b[0;32m/usr/local/lib/python3.11/dist-packages/sklearn/preprocessing/_data.py\u001b[0m in \u001b[0;36mfit\u001b[0;34m(self, X, y, sample_weight)\u001b[0m\n\u001b[1;32m    892\u001b[0m         \u001b[0;31m# Reset internal state before fitting\u001b[0m\u001b[0;34m\u001b[0m\u001b[0;34m\u001b[0m\u001b[0m\n\u001b[1;32m    893\u001b[0m         \u001b[0mself\u001b[0m\u001b[0;34m.\u001b[0m\u001b[0m_reset\u001b[0m\u001b[0;34m(\u001b[0m\u001b[0;34m)\u001b[0m\u001b[0;34m\u001b[0m\u001b[0;34m\u001b[0m\u001b[0m\n\u001b[0;32m--> 894\u001b[0;31m         \u001b[0;32mreturn\u001b[0m \u001b[0mself\u001b[0m\u001b[0;34m.\u001b[0m\u001b[0mpartial_fit\u001b[0m\u001b[0;34m(\u001b[0m\u001b[0mX\u001b[0m\u001b[0;34m,\u001b[0m \u001b[0my\u001b[0m\u001b[0;34m,\u001b[0m \u001b[0msample_weight\u001b[0m\u001b[0;34m)\u001b[0m\u001b[0;34m\u001b[0m\u001b[0;34m\u001b[0m\u001b[0m\n\u001b[0m\u001b[1;32m    895\u001b[0m \u001b[0;34m\u001b[0m\u001b[0m\n\u001b[1;32m    896\u001b[0m     \u001b[0;34m@\u001b[0m\u001b[0m_fit_context\u001b[0m\u001b[0;34m(\u001b[0m\u001b[0mprefer_skip_nested_validation\u001b[0m\u001b[0;34m=\u001b[0m\u001b[0;32mTrue\u001b[0m\u001b[0;34m)\u001b[0m\u001b[0;34m\u001b[0m\u001b[0;34m\u001b[0m\u001b[0m\n",
            "\u001b[0;32m/usr/local/lib/python3.11/dist-packages/sklearn/base.py\u001b[0m in \u001b[0;36mwrapper\u001b[0;34m(estimator, *args, **kwargs)\u001b[0m\n\u001b[1;32m   1387\u001b[0m                 )\n\u001b[1;32m   1388\u001b[0m             ):\n\u001b[0;32m-> 1389\u001b[0;31m                 \u001b[0;32mreturn\u001b[0m \u001b[0mfit_method\u001b[0m\u001b[0;34m(\u001b[0m\u001b[0mestimator\u001b[0m\u001b[0;34m,\u001b[0m \u001b[0;34m*\u001b[0m\u001b[0margs\u001b[0m\u001b[0;34m,\u001b[0m \u001b[0;34m**\u001b[0m\u001b[0mkwargs\u001b[0m\u001b[0;34m)\u001b[0m\u001b[0;34m\u001b[0m\u001b[0;34m\u001b[0m\u001b[0m\n\u001b[0m\u001b[1;32m   1390\u001b[0m \u001b[0;34m\u001b[0m\u001b[0m\n\u001b[1;32m   1391\u001b[0m         \u001b[0;32mreturn\u001b[0m \u001b[0mwrapper\u001b[0m\u001b[0;34m\u001b[0m\u001b[0;34m\u001b[0m\u001b[0m\n",
            "\u001b[0;32m/usr/local/lib/python3.11/dist-packages/sklearn/preprocessing/_data.py\u001b[0m in \u001b[0;36mpartial_fit\u001b[0;34m(self, X, y, sample_weight)\u001b[0m\n\u001b[1;32m    928\u001b[0m         \"\"\"\n\u001b[1;32m    929\u001b[0m         \u001b[0mfirst_call\u001b[0m \u001b[0;34m=\u001b[0m \u001b[0;32mnot\u001b[0m \u001b[0mhasattr\u001b[0m\u001b[0;34m(\u001b[0m\u001b[0mself\u001b[0m\u001b[0;34m,\u001b[0m \u001b[0;34m\"n_samples_seen_\"\u001b[0m\u001b[0;34m)\u001b[0m\u001b[0;34m\u001b[0m\u001b[0;34m\u001b[0m\u001b[0m\n\u001b[0;32m--> 930\u001b[0;31m         X = validate_data(\n\u001b[0m\u001b[1;32m    931\u001b[0m             \u001b[0mself\u001b[0m\u001b[0;34m,\u001b[0m\u001b[0;34m\u001b[0m\u001b[0;34m\u001b[0m\u001b[0m\n\u001b[1;32m    932\u001b[0m             \u001b[0mX\u001b[0m\u001b[0;34m,\u001b[0m\u001b[0;34m\u001b[0m\u001b[0;34m\u001b[0m\u001b[0m\n",
            "\u001b[0;32m/usr/local/lib/python3.11/dist-packages/sklearn/utils/validation.py\u001b[0m in \u001b[0;36mvalidate_data\u001b[0;34m(_estimator, X, y, reset, validate_separately, skip_check_array, **check_params)\u001b[0m\n\u001b[1;32m   2942\u001b[0m             \u001b[0mout\u001b[0m \u001b[0;34m=\u001b[0m \u001b[0mX\u001b[0m\u001b[0;34m,\u001b[0m \u001b[0my\u001b[0m\u001b[0;34m\u001b[0m\u001b[0;34m\u001b[0m\u001b[0m\n\u001b[1;32m   2943\u001b[0m     \u001b[0;32melif\u001b[0m \u001b[0;32mnot\u001b[0m \u001b[0mno_val_X\u001b[0m \u001b[0;32mand\u001b[0m \u001b[0mno_val_y\u001b[0m\u001b[0;34m:\u001b[0m\u001b[0;34m\u001b[0m\u001b[0;34m\u001b[0m\u001b[0m\n\u001b[0;32m-> 2944\u001b[0;31m         \u001b[0mout\u001b[0m \u001b[0;34m=\u001b[0m \u001b[0mcheck_array\u001b[0m\u001b[0;34m(\u001b[0m\u001b[0mX\u001b[0m\u001b[0;34m,\u001b[0m \u001b[0minput_name\u001b[0m\u001b[0;34m=\u001b[0m\u001b[0;34m\"X\"\u001b[0m\u001b[0;34m,\u001b[0m \u001b[0;34m**\u001b[0m\u001b[0mcheck_params\u001b[0m\u001b[0;34m)\u001b[0m\u001b[0;34m\u001b[0m\u001b[0;34m\u001b[0m\u001b[0m\n\u001b[0m\u001b[1;32m   2945\u001b[0m     \u001b[0;32melif\u001b[0m \u001b[0mno_val_X\u001b[0m \u001b[0;32mand\u001b[0m \u001b[0;32mnot\u001b[0m \u001b[0mno_val_y\u001b[0m\u001b[0;34m:\u001b[0m\u001b[0;34m\u001b[0m\u001b[0;34m\u001b[0m\u001b[0m\n\u001b[1;32m   2946\u001b[0m         \u001b[0mout\u001b[0m \u001b[0;34m=\u001b[0m \u001b[0m_check_y\u001b[0m\u001b[0;34m(\u001b[0m\u001b[0my\u001b[0m\u001b[0;34m,\u001b[0m \u001b[0;34m**\u001b[0m\u001b[0mcheck_params\u001b[0m\u001b[0;34m)\u001b[0m\u001b[0;34m\u001b[0m\u001b[0;34m\u001b[0m\u001b[0m\n",
            "\u001b[0;32m/usr/local/lib/python3.11/dist-packages/sklearn/utils/validation.py\u001b[0m in \u001b[0;36mcheck_array\u001b[0;34m(array, accept_sparse, accept_large_sparse, dtype, order, copy, force_writeable, force_all_finite, ensure_all_finite, ensure_non_negative, ensure_2d, allow_nd, ensure_min_samples, ensure_min_features, estimator, input_name)\u001b[0m\n\u001b[1;32m   1053\u001b[0m                     \u001b[0marray\u001b[0m \u001b[0;34m=\u001b[0m \u001b[0mxp\u001b[0m\u001b[0;34m.\u001b[0m\u001b[0mastype\u001b[0m\u001b[0;34m(\u001b[0m\u001b[0marray\u001b[0m\u001b[0;34m,\u001b[0m \u001b[0mdtype\u001b[0m\u001b[0;34m,\u001b[0m \u001b[0mcopy\u001b[0m\u001b[0;34m=\u001b[0m\u001b[0;32mFalse\u001b[0m\u001b[0;34m)\u001b[0m\u001b[0;34m\u001b[0m\u001b[0;34m\u001b[0m\u001b[0m\n\u001b[1;32m   1054\u001b[0m                 \u001b[0;32melse\u001b[0m\u001b[0;34m:\u001b[0m\u001b[0;34m\u001b[0m\u001b[0;34m\u001b[0m\u001b[0m\n\u001b[0;32m-> 1055\u001b[0;31m                     \u001b[0marray\u001b[0m \u001b[0;34m=\u001b[0m \u001b[0m_asarray_with_order\u001b[0m\u001b[0;34m(\u001b[0m\u001b[0marray\u001b[0m\u001b[0;34m,\u001b[0m \u001b[0morder\u001b[0m\u001b[0;34m=\u001b[0m\u001b[0morder\u001b[0m\u001b[0;34m,\u001b[0m \u001b[0mdtype\u001b[0m\u001b[0;34m=\u001b[0m\u001b[0mdtype\u001b[0m\u001b[0;34m,\u001b[0m \u001b[0mxp\u001b[0m\u001b[0;34m=\u001b[0m\u001b[0mxp\u001b[0m\u001b[0;34m)\u001b[0m\u001b[0;34m\u001b[0m\u001b[0;34m\u001b[0m\u001b[0m\n\u001b[0m\u001b[1;32m   1056\u001b[0m             \u001b[0;32mexcept\u001b[0m \u001b[0mComplexWarning\u001b[0m \u001b[0;32mas\u001b[0m \u001b[0mcomplex_warning\u001b[0m\u001b[0;34m:\u001b[0m\u001b[0;34m\u001b[0m\u001b[0;34m\u001b[0m\u001b[0m\n\u001b[1;32m   1057\u001b[0m                 raise ValueError(\n",
            "\u001b[0;32m/usr/local/lib/python3.11/dist-packages/sklearn/utils/_array_api.py\u001b[0m in \u001b[0;36m_asarray_with_order\u001b[0;34m(array, dtype, order, copy, xp, device)\u001b[0m\n\u001b[1;32m    837\u001b[0m             \u001b[0marray\u001b[0m \u001b[0;34m=\u001b[0m \u001b[0mnumpy\u001b[0m\u001b[0;34m.\u001b[0m\u001b[0marray\u001b[0m\u001b[0;34m(\u001b[0m\u001b[0marray\u001b[0m\u001b[0;34m,\u001b[0m \u001b[0morder\u001b[0m\u001b[0;34m=\u001b[0m\u001b[0morder\u001b[0m\u001b[0;34m,\u001b[0m \u001b[0mdtype\u001b[0m\u001b[0;34m=\u001b[0m\u001b[0mdtype\u001b[0m\u001b[0;34m)\u001b[0m\u001b[0;34m\u001b[0m\u001b[0;34m\u001b[0m\u001b[0m\n\u001b[1;32m    838\u001b[0m         \u001b[0;32melse\u001b[0m\u001b[0;34m:\u001b[0m\u001b[0;34m\u001b[0m\u001b[0;34m\u001b[0m\u001b[0m\n\u001b[0;32m--> 839\u001b[0;31m             \u001b[0marray\u001b[0m \u001b[0;34m=\u001b[0m \u001b[0mnumpy\u001b[0m\u001b[0;34m.\u001b[0m\u001b[0masarray\u001b[0m\u001b[0;34m(\u001b[0m\u001b[0marray\u001b[0m\u001b[0;34m,\u001b[0m \u001b[0morder\u001b[0m\u001b[0;34m=\u001b[0m\u001b[0morder\u001b[0m\u001b[0;34m,\u001b[0m \u001b[0mdtype\u001b[0m\u001b[0;34m=\u001b[0m\u001b[0mdtype\u001b[0m\u001b[0;34m)\u001b[0m\u001b[0;34m\u001b[0m\u001b[0;34m\u001b[0m\u001b[0m\n\u001b[0m\u001b[1;32m    840\u001b[0m \u001b[0;34m\u001b[0m\u001b[0m\n\u001b[1;32m    841\u001b[0m         \u001b[0;31m# At this point array is a NumPy ndarray. We convert it to an array\u001b[0m\u001b[0;34m\u001b[0m\u001b[0;34m\u001b[0m\u001b[0m\n",
            "\u001b[0;32m/usr/local/lib/python3.11/dist-packages/pandas/core/generic.py\u001b[0m in \u001b[0;36m__array__\u001b[0;34m(self, dtype, copy)\u001b[0m\n\u001b[1;32m   2151\u001b[0m     ) -> np.ndarray:\n\u001b[1;32m   2152\u001b[0m         \u001b[0mvalues\u001b[0m \u001b[0;34m=\u001b[0m \u001b[0mself\u001b[0m\u001b[0;34m.\u001b[0m\u001b[0m_values\u001b[0m\u001b[0;34m\u001b[0m\u001b[0;34m\u001b[0m\u001b[0m\n\u001b[0;32m-> 2153\u001b[0;31m         \u001b[0marr\u001b[0m \u001b[0;34m=\u001b[0m \u001b[0mnp\u001b[0m\u001b[0;34m.\u001b[0m\u001b[0masarray\u001b[0m\u001b[0;34m(\u001b[0m\u001b[0mvalues\u001b[0m\u001b[0;34m,\u001b[0m \u001b[0mdtype\u001b[0m\u001b[0;34m=\u001b[0m\u001b[0mdtype\u001b[0m\u001b[0;34m)\u001b[0m\u001b[0;34m\u001b[0m\u001b[0;34m\u001b[0m\u001b[0m\n\u001b[0m\u001b[1;32m   2154\u001b[0m         if (\n\u001b[1;32m   2155\u001b[0m             \u001b[0mastype_is_view\u001b[0m\u001b[0;34m(\u001b[0m\u001b[0mvalues\u001b[0m\u001b[0;34m.\u001b[0m\u001b[0mdtype\u001b[0m\u001b[0;34m,\u001b[0m \u001b[0marr\u001b[0m\u001b[0;34m.\u001b[0m\u001b[0mdtype\u001b[0m\u001b[0;34m)\u001b[0m\u001b[0;34m\u001b[0m\u001b[0;34m\u001b[0m\u001b[0m\n",
            "\u001b[0;31mValueError\u001b[0m: could not convert string to float: '?'"
          ]
        }
      ]
    },
    {
      "cell_type": "code",
      "source": [
        "import numpy as np\n",
        "import pandas as pd\n",
        "from sklearn.model_selection import train_test_split\n",
        "from sklearn.linear_model import LogisticRegression\n",
        "from sklearn.metrics import accuracy_score\n",
        "from sklearn.preprocessing import StandardScaler\n",
        "\n",
        "# Load dataset from CSV file (update the filename)\n",
        "file_path = \"/content/autos_dataset (1).csv\"  # Change this to your actual CSV file\n",
        "df = pd.read_csv(file_path)\n",
        "\n",
        "# Assume the last column is the target (update column names if needed)\n",
        "X = df.iloc[:, :-1]  # Features (all columns except last)\n",
        "y = df.iloc[:, -1]   # Target variable (last column)\n",
        "\n",
        "# Replace '?' with NaN\n",
        "X.replace('?', np.nan, inplace=True)\n",
        "\n",
        "# Impute or drop NaN values\n",
        "# Option 1: Drop rows with NaN\n",
        "# X.dropna(inplace=True)\n",
        "# y = y[X.index]  # Update y to match X's index after dropping rows\n",
        "\n",
        "# Option 2: Impute NaN with the mean (or other strategy)\n",
        "# from sklearn.impute import SimpleImputer\n",
        "# imputer = SimpleImputer(strategy='mean') # You can change the strategy\n",
        "# X = imputer.fit_transform(X)\n",
        "\n",
        "# ... (rest of your code: train_test_split, StandardScaler, LogisticRegression)"
      ],
      "metadata": {
        "id": "HfecPqV0zodG"
      },
      "execution_count": 12,
      "outputs": []
    },
    {
      "cell_type": "markdown",
      "source": [
        "9.Write a Python program to apply RandomizedSearchCV for tuning hyperparameters (C, penalty, solver) in\n",
        "Logistic Regression. Print the best parameters and accuracy"
      ],
      "metadata": {
        "id": "3wdfSJx3z1o5"
      }
    },
    {
      "cell_type": "code",
      "source": [
        "import numpy as np\n",
        "import pandas as pd\n",
        "from sklearn.model_selection import train_test_split, RandomizedSearchCV\n",
        "from sklearn.linear_model import LogisticRegression\n",
        "from sklearn.metrics import accuracy_score\n",
        "from sklearn.datasets import load_iris\n",
        "from sklearn.preprocessing import StandardScaler\n",
        "from scipy.stats import loguniform\n",
        "\n",
        "# Load dataset (Iris dataset as an example)\n",
        "data = load_iris()\n",
        "X = data.data\n",
        "y = data.target\n",
        "\n",
        "# Split into training (80%) and testing (20%) sets\n",
        "X_train, X_test, y_train, y_test = train_test_split(X, y, test_size=0.2, random_state=42)\n",
        "\n",
        "# Standardize features (important for regularization)\n",
        "scaler = StandardScaler()\n",
        "X_train = scaler.fit_transform(X_train)\n",
        "X_test = scaler.transform(X_test)\n",
        "\n",
        "# Define the parameter distribution for RandomizedSearchCV\n",
        "param_dist = {\n",
        "    'C': loguniform(0.01, 100),  # Random values for regularization strength\n",
        "    'penalty': ['l1', 'l2'],  # Lasso (L1) and Ridge (L2)\n",
        "    'solver': ['liblinear', 'saga']  # Solvers that support both L1 and L2\n",
        "}\n",
        "\n",
        "# Create a Logistic Regression model\n",
        "logreg = LogisticRegression(max_iter=200)\n",
        "\n",
        "# Apply RandomizedSearchCV for hyperparameter tuning\n",
        "random_search = RandomizedSearchCV(\n",
        "    logreg, param_distributions=param_dist, n_iter=10, cv=5, scoring='accuracy', n_jobs=-1, random_state=42\n",
        ")\n",
        "random_search.fit(X_train, y_train)\n",
        "\n",
        "# Get the best parameters and model\n",
        "best_params = random_search.best_params_\n",
        "best_model = random_search.best_estimator_\n",
        "\n",
        "# Make predictions using the best model\n",
        "y_pred = best_model.predict(X_test)\n",
        "\n",
        "# Calculate accuracy\n",
        "accuracy = accuracy_score(y_test, y_pred)\n",
        "\n",
        "# Print best parameters and accuracy\n",
        "print(f\"Best Parameters: {best_params}\")\n",
        "print(f\"Best Model Accuracy on Test Set: {accuracy:.2f}\")\n"
      ],
      "metadata": {
        "colab": {
          "base_uri": "https://localhost:8080/"
        },
        "id": "bOELgZkfz8lI",
        "outputId": "556618cc-a243-41d6-c06d-0a30ea20e8e5"
      },
      "execution_count": 13,
      "outputs": [
        {
          "output_type": "stream",
          "name": "stdout",
          "text": [
            "Best Parameters: {'C': np.float64(8.471801418819979), 'penalty': 'l1', 'solver': 'liblinear'}\n",
            "Best Model Accuracy on Test Set: 1.00\n"
          ]
        }
      ]
    },
    {
      "cell_type": "markdown",
      "source": [
        "10.M Write a Python program to implement One-vs-One (OvO) Multiclass Logistic Regression and print accuracy"
      ],
      "metadata": {
        "id": "wdGTgYx-0Idg"
      }
    },
    {
      "cell_type": "code",
      "source": [
        "import numpy as np\n",
        "import pandas as pd\n",
        "from sklearn.model_selection import train_test_split\n",
        "from sklearn.linear_model import LogisticRegression\n",
        "from sklearn.metrics import accuracy_score\n",
        "from sklearn.datasets import load_iris\n",
        "from sklearn.preprocessing import StandardScaler\n",
        "from sklearn.multiclass import OneVsOneClassifier\n",
        "\n",
        "# Load dataset (Iris dataset as an example)\n",
        "data = load_iris()\n",
        "X = data.data\n",
        "y = data.target\n",
        "\n",
        "# Split into training (80%) and testing (20%) sets\n",
        "X_train, X_test, y_train, y_test = train_test_split(X, y, test_size=0.2, random_state=42)\n",
        "\n",
        "# Standardize features (important for Logistic Regression)\n",
        "scaler = StandardScaler()\n",
        "X_train = scaler.fit_transform(X_train)\n",
        "X_test = scaler.transform(X_test)\n",
        "\n",
        "# Create and train Logistic Regression model using One-vs-One (OvO) strategy\n",
        "model = OneVsOneClassifier(LogisticRegression(max_iter=200, solver='liblinear'))\n",
        "model.fit(X_train, y_train)\n",
        "\n",
        "# Make predictions\n",
        "y_pred = model.predict(X_test)\n",
        "\n",
        "# Calculate accuracy\n",
        "accuracy = accuracy_score(y_test, y_pred)\n",
        "\n",
        "# Print model accuracy\n",
        "print(f\"One-vs-One (OvO) Logistic Regression Accuracy: {accuracy:.2f}\")\n"
      ],
      "metadata": {
        "colab": {
          "base_uri": "https://localhost:8080/"
        },
        "id": "nf8KZq4rz_tw",
        "outputId": "d6261442-97cb-4764-ffd9-150a8d5717d2"
      },
      "execution_count": 14,
      "outputs": [
        {
          "output_type": "stream",
          "name": "stdout",
          "text": [
            "One-vs-One (OvO) Logistic Regression Accuracy: 1.00\n"
          ]
        }
      ]
    },
    {
      "cell_type": "markdown",
      "source": [
        "11.EM Write a Python program to train a Logistic Regression model and visualize the confusion matrix for binary\n",
        "classification"
      ],
      "metadata": {
        "id": "7_xelv3h0QhI"
      }
    },
    {
      "cell_type": "code",
      "source": [
        "import numpy as np\n",
        "import pandas as pd\n",
        "import matplotlib.pyplot as plt\n",
        "import seaborn as sns\n",
        "from sklearn.model_selection import train_test_split\n",
        "from sklearn.linear_model import LogisticRegression\n",
        "from sklearn.metrics import accuracy_score, confusion_matrix\n",
        "from sklearn.datasets import load_breast_cancer\n",
        "from sklearn.preprocessing import StandardScaler\n",
        "\n",
        "# Load dataset (Breast Cancer dataset as an example - binary classification)\n",
        "data = load_breast_cancer()\n",
        "X = data.data\n",
        "y = data.target  # Binary labels (0 = malignant, 1 = benign)\n",
        "\n",
        "# Split into training (80%) and testing (20%) sets\n",
        "X_train, X_test, y_train, y_test = train_test_split(X, y, test_size=0.2, random_state=42)\n",
        "\n",
        "# Standardize features (important for Logistic Regression)\n",
        "scaler = StandardScaler()\n",
        "X_train = scaler.fit_transform(X_train)\n",
        "X_test = scaler.transform(X_test)\n",
        "\n",
        "# Create and train Logistic Regression model\n",
        "model = LogisticRegression(max_iter=200)\n",
        "model.fit(X_train, y_train)\n",
        "\n",
        "# Make predictions\n",
        "y_pred = model.predict(X_test)\n",
        "\n",
        "# Calculate accuracy\n",
        "accuracy = accuracy_score(y_test, y_pred)\n",
        "print(f\"Logistic Regression Model Accuracy: {accuracy:.2f}\")\n",
        "\n",
        "# Compute Confusion Matrix\n",
        "cm = confusion_matrix(y_test, y_pred)\n",
        "\n",
        "# Visualize Confusion Matrix\n",
        "plt.figure(figsize=(6, 5))\n",
        "sns.heatmap(cm, annot=True, fmt=\"d\", cmap=\"Blues\", xticklabels=[\"Malignant\", \"Benign\"], yticklabels=[\"Malignant\", \"Benign\"])\n",
        "plt.xlabel(\"Predicted Label\")\n",
        "plt.ylabel(\"True Label\")\n",
        "plt.title(\"Confusion Matrix for Logistic Regression\")\n",
        "plt.show()\n"
      ],
      "metadata": {
        "colab": {
          "base_uri": "https://localhost:8080/",
          "height": 504
        },
        "id": "YCaqnQDl0Pn4",
        "outputId": "59bbf252-62ff-4523-a96c-d635572cddeb"
      },
      "execution_count": 15,
      "outputs": [
        {
          "output_type": "stream",
          "name": "stdout",
          "text": [
            "Logistic Regression Model Accuracy: 0.97\n"
          ]
        },
        {
          "output_type": "display_data",
          "data": {
            "text/plain": [
              "<Figure size 600x500 with 2 Axes>"
            ],
            "image/png": "[encoded data removed]"
          },
          "metadata": {}
        }
      ]
    },
    {
      "cell_type": "markdown",
      "source": [
        "12.Write a Python program to train a Logistic Regression model and evaluate its performance using Precision,\n",
        "Recall, and F1-Score"
      ],
      "metadata": {
        "id": "AVwUMW3_0YWA"
      }
    },
    {
      "cell_type": "code",
      "source": [
        "import numpy as np\n",
        "import pandas as pd\n",
        "from sklearn.model_selection import train_test_split\n",
        "from sklearn.linear_model import LogisticRegression\n",
        "from sklearn.metrics import precision_score, recall_score, f1_score, classification_report\n",
        "from sklearn.datasets import load_breast_cancer\n",
        "from sklearn.preprocessing import StandardScaler\n",
        "\n",
        "# Load dataset (Breast Cancer dataset as an example - binary classification)\n",
        "data = load_breast_cancer()\n",
        "X = data.data\n",
        "y = data.target  # Binary labels (0 = malignant, 1 = benign)\n",
        "\n",
        "# Split into training (80%) and testing (20%) sets\n",
        "X_train, X_test, y_train, y_test = train_test_split(X, y, test_size=0.2, random_state=42)\n",
        "\n",
        "# Standardize features (important for Logistic Regression)\n",
        "scaler = StandardScaler()\n",
        "X_train = scaler.fit_transform(X_train)\n",
        "X_test = scaler.transform(X_test)\n",
        "\n",
        "# Create and train Logistic Regression model\n",
        "model = LogisticRegression(max_iter=200)\n",
        "model.fit(X_train, y_train)\n",
        "\n",
        "# Make predictions\n",
        "y_pred = model.predict(X_test)\n",
        "\n",
        "# Calculate Precision, Recall, and F1-Score\n",
        "precision = precision_score(y_test, y_pred)\n",
        "recall = recall_score(y_test, y_pred)\n",
        "f1 = f1_score(y_test, y_pred)\n",
        "\n",
        "# Print evaluation metrics\n",
        "print(f\"Precision: {precision:.2f}\")\n",
        "print(f\"Recall: {recall:.2f}\")\n",
        "print(f\"F1-Score: {f1:.2f}\")\n",
        "\n",
        "# Print full classification report\n",
        "print(\"\\nClassification Report:\\n\", classification_report(y_test, y_pred))\n"
      ],
      "metadata": {
        "colab": {
          "base_uri": "https://localhost:8080/"
        },
        "id": "Mrx4KTs80W3s",
        "outputId": "b5716963-3a4c-41a8-f9ef-2874c0e78be3"
      },
      "execution_count": 16,
      "outputs": [
        {
          "output_type": "stream",
          "name": "stdout",
          "text": [
            "Precision: 0.97\n",
            "Recall: 0.99\n",
            "F1-Score: 0.98\n",
            "\n",
            "Classification Report:\n",
            "               precision    recall  f1-score   support\n",
            "\n",
            "           0       0.98      0.95      0.96        43\n",
            "           1       0.97      0.99      0.98        71\n",
            "\n",
            "    accuracy                           0.97       114\n",
            "   macro avg       0.97      0.97      0.97       114\n",
            "weighted avg       0.97      0.97      0.97       114\n",
            "\n"
          ]
        }
      ]
    },
    {
      "cell_type": "markdown",
      "source": [
        "13.Write a Python program to train a Logistic Regression model on imbalanced data and apply class weights to\n",
        "improve model performance"
      ],
      "metadata": {
        "id": "KNVgoaWu0g2-"
      }
    },
    {
      "cell_type": "code",
      "source": [
        "import numpy as np\n",
        "import pandas as pd\n",
        "from sklearn.model_selection import train_test_split\n",
        "from sklearn.linear_model import LogisticRegression\n",
        "from sklearn.metrics import classification_report\n",
        "from sklearn.datasets import make_classification\n",
        "from sklearn.preprocessing import StandardScaler\n",
        "\n",
        "# Generate an imbalanced dataset\n",
        "X, y = make_classification(n_samples=5000, n_features=10, n_classes=2, weights=[0.9, 0.1], random_state=42)\n",
        "\n",
        "# Split into training (80%) and testing (20%) sets\n",
        "X_train, X_test, y_train, y_test = train_test_split(X, y, test_size=0.2, random_state=42, stratify=y)\n",
        "\n",
        "# Standardize features (important for Logistic Regression)\n",
        "scaler = StandardScaler()\n",
        "X_train = scaler.fit_transform(X_train)\n",
        "X_test = scaler.transform(X_test)\n",
        "\n",
        "# Train Logistic Regression model with class weights to handle imbalance\n",
        "model = LogisticRegression(class_weight=\"balanced\", max_iter=200)\n",
        "model.fit(X_train, y_train)\n",
        "\n",
        "# Make predictions\n",
        "y_pred = model.predict(X_test)\n",
        "\n",
        "# Print classification report to evaluate Precision, Recall, and F1-Score\n",
        "print(\"Classification Report:\\n\", classification_report(y_test, y_pred))\n"
      ],
      "metadata": {
        "colab": {
          "base_uri": "https://localhost:8080/"
        },
        "id": "gsdxWcNM0f8m",
        "outputId": "50f676a9-7660-4aef-ac5c-66b3e12442b4"
      },
      "execution_count": 17,
      "outputs": [
        {
          "output_type": "stream",
          "name": "stdout",
          "text": [
            "Classification Report:\n",
            "               precision    recall  f1-score   support\n",
            "\n",
            "           0       0.98      0.86      0.92       894\n",
            "           1       0.42      0.83      0.56       106\n",
            "\n",
            "    accuracy                           0.86      1000\n",
            "   macro avg       0.70      0.85      0.74      1000\n",
            "weighted avg       0.92      0.86      0.88      1000\n",
            "\n"
          ]
        }
      ]
    },
    {
      "cell_type": "markdown",
      "source": [
        "14.M Write a Python program to train Logistic Regression on the Titanic dataset, handle missing values, and\n",
        "evaluate performance"
      ],
      "metadata": {
        "id": "1T9o-fUe0nyS"
      }
    },
    {
      "cell_type": "code",
      "source": [
        "import numpy as np\n",
        "import pandas as pd\n",
        "import seaborn as sns\n",
        "import matplotlib.pyplot as plt\n",
        "from sklearn.model_selection import train_test_split\n",
        "from sklearn.linear_model import LogisticRegression\n",
        "from sklearn.metrics import classification_report, accuracy_score\n",
        "from sklearn.preprocessing import StandardScaler\n",
        "from sklearn.impute import SimpleImputer\n",
        "from sklearn.pipeline import Pipeline\n",
        "from sklearn.compose import ColumnTransformer\n",
        "from sklearn.preprocessing import OneHotEncoder\n",
        "\n",
        "# Load Titanic dataset (replace with your dataset path if using CSV)\n",
        "url = \"https://raw.githubusercontent.com/datasciencedojo/datasets/master/titanic.csv\"\n",
        "df = pd.read_csv(url)\n",
        "\n",
        "# Select relevant features and target variable\n",
        "features = [\"Pclass\", \"Sex\", \"Age\", \"SibSp\", \"Parch\", \"Fare\", \"Embarked\"]\n",
        "target = \"Survived\"\n",
        "df = df[features + [target]]\n",
        "\n",
        "# Handle missing values\n",
        "df[\"Age\"].fillna(df[\"Age\"].median(), inplace=True)\n",
        "df[\"Embarked\"].fillna(df[\"Embarked\"].mode()[0], inplace=True)\n",
        "\n",
        "# Convert categorical variables into numerical using One-Hot Encoding\n",
        "df = pd.get_dummies(df, columns=[\"Sex\", \"Embarked\"], drop_first=True)\n",
        "\n",
        "# Split into training (80%) and testing (20%) sets\n",
        "X = df.drop(columns=[target])\n",
        "y = df[target]\n",
        "X_train, X_test, y_train, y_test = train_test_split(X, y, test_size=0.2, random_state=42, stratify=y)\n",
        "\n",
        "# Standardize numerical features\n",
        "scaler = StandardScaler()\n",
        "X_train = scaler.fit_transform(X_train)\n",
        "X_test = scaler.transform(X_test)\n",
        "\n",
        "# Train Logistic Regression model\n",
        "model = LogisticRegression(max_iter=200)\n",
        "model.fit(X_train, y_train)\n",
        "\n",
        "# Make predictions\n",
        "y_pred = model.predict(X_test)\n",
        "\n",
        "# Evaluate model performance\n",
        "accuracy = accuracy_score(y_test, y_pred)\n",
        "print(f\"Model Accuracy: {accuracy:.2f}\")\n",
        "print(\"\\nClassification Report:\\n\", classification_report(y_test, y_pred))\n"
      ],
      "metadata": {
        "colab": {
          "base_uri": "https://localhost:8080/"
        },
        "id": "Z4H2AXYZ0nA8",
        "outputId": "ae2dcbdc-5dad-420d-f7a9-1eb0ad673ecc"
      },
      "execution_count": 18,
      "outputs": [
        {
          "output_type": "stream",
          "name": "stdout",
          "text": [
            "Model Accuracy: 0.80\n",
            "\n",
            "Classification Report:\n",
            "               precision    recall  f1-score   support\n",
            "\n",
            "           0       0.81      0.89      0.85       110\n",
            "           1       0.79      0.67      0.72        69\n",
            "\n",
            "    accuracy                           0.80       179\n",
            "   macro avg       0.80      0.78      0.79       179\n",
            "weighted avg       0.80      0.80      0.80       179\n",
            "\n"
          ]
        },
        {
          "output_type": "stream",
          "name": "stderr",
          "text": [
            "<ipython-input-18-2169478e7ae9>:24: FutureWarning: A value is trying to be set on a copy of a DataFrame or Series through chained assignment using an inplace method.\n",
            "The behavior will change in pandas 3.0. This inplace method will never work because the intermediate object on which we are setting values always behaves as a copy.\n",
            "\n",
            "For example, when doing 'df[col].method(value, inplace=True)', try using 'df.method({col: value}, inplace=True)' or df[col] = df[col].method(value) instead, to perform the operation inplace on the original object.\n",
            "\n",
            "\n",
            "  df[\"Age\"].fillna(df[\"Age\"].median(), inplace=True)\n",
            "<ipython-input-18-2169478e7ae9>:25: FutureWarning: A value is trying to be set on a copy of a DataFrame or Series through chained assignment using an inplace method.\n",
            "The behavior will change in pandas 3.0. This inplace method will never work because the intermediate object on which we are setting values always behaves as a copy.\n",
            "\n",
            "For example, when doing 'df[col].method(value, inplace=True)', try using 'df.method({col: value}, inplace=True)' or df[col] = df[col].method(value) instead, to perform the operation inplace on the original object.\n",
            "\n",
            "\n",
            "  df[\"Embarked\"].fillna(df[\"Embarked\"].mode()[0], inplace=True)\n"
          ]
        }
      ]
    },
    {
      "cell_type": "markdown",
      "source": [
        "15.Write a Python program to apply feature scaling (Standardization) before training a Logistic Regression\n",
        "model. Evaluate its accuracy and compare results with and without scaling"
      ],
      "metadata": {
        "id": "U3B_IzsL0wC3"
      }
    },
    {
      "cell_type": "code",
      "source": [
        "import numpy as np\n",
        "import pandas as pd\n",
        "from sklearn.model_selection import train_test_split\n",
        "from sklearn.linear_model import LogisticRegression\n",
        "from sklearn.metrics import accuracy_score\n",
        "from sklearn.preprocessing import StandardScaler\n",
        "from sklearn.datasets import load_breast_cancer\n",
        "\n",
        "# Load dataset (Breast Cancer dataset - binary classification)\n",
        "data = load_breast_cancer()\n",
        "X = data.data\n",
        "y = data.target\n",
        "\n",
        "# Split into training (80%) and testing (20%) sets\n",
        "X_train, X_test, y_train, y_test = train_test_split(X, y, test_size=0.2, random_state=42)\n",
        "\n",
        "# Train Logistic Regression without scaling\n",
        "model_no_scaling = LogisticRegression(max_iter=200)\n",
        "model_no_scaling.fit(X_train, y_train)\n",
        "y_pred_no_scaling = model_no_scaling.predict(X_test)\n",
        "accuracy_no_scaling = accuracy_score(y_test, y_pred_no_scaling)\n",
        "\n",
        "# Apply feature scaling (Standardization)\n",
        "scaler = StandardScaler()\n",
        "X_train_scaled = scaler.fit_transform(X_train)\n",
        "X_test_scaled = scaler.transform(X_test)\n",
        "\n",
        "# Train Logistic Regression with scaling\n",
        "model_with_scaling = LogisticRegression(max_iter=200)\n",
        "model_with_scaling.fit(X_train_scaled, y_train)\n",
        "y_pred_with_scaling = model_with_scaling.predict(X_test_scaled)\n",
        "accuracy_with_scaling = accuracy_score(y_test, y_pred_with_scaling)\n",
        "\n",
        "# Compare results\n",
        "print(f\"Accuracy Without Scaling: {accuracy_no_scaling:.2f}\")\n",
        "print(f\"Accuracy With Scaling: {accuracy_with_scaling:.2f}\")\n"
      ],
      "metadata": {
        "colab": {
          "base_uri": "https://localhost:8080/"
        },
        "id": "CLNJViLq0u8c",
        "outputId": "99632641-e3bb-44b7-8e7d-4f11c06db271"
      },
      "execution_count": 19,
      "outputs": [
        {
          "output_type": "stream",
          "name": "stdout",
          "text": [
            "Accuracy Without Scaling: 0.96\n",
            "Accuracy With Scaling: 0.97\n"
          ]
        },
        {
          "output_type": "stream",
          "name": "stderr",
          "text": [
            "/usr/local/lib/python3.11/dist-packages/sklearn/linear_model/_logistic.py:465: ConvergenceWarning: lbfgs failed to converge (status=1):\n",
            "STOP: TOTAL NO. of ITERATIONS REACHED LIMIT.\n",
            "\n",
            "Increase the number of iterations (max_iter) or scale the data as shown in:\n",
            "    https://scikit-learn.org/stable/modules/preprocessing.html\n",
            "Please also refer to the documentation for alternative solver options:\n",
            "    https://scikit-learn.org/stable/modules/linear_model.html#logistic-regression\n",
            "  n_iter_i = _check_optimize_result(\n"
          ]
        }
      ]
    },
    {
      "cell_type": "markdown",
      "source": [
        "16.Write a Python program to train Logistic Regression and evaluate its performance using ROC-AUC score"
      ],
      "metadata": {
        "id": "YI0ylf2105Fh"
      }
    },
    {
      "cell_type": "code",
      "source": [
        "import numpy as np\n",
        "import pandas as pd\n",
        "import matplotlib.pyplot as plt\n",
        "from sklearn.model_selection import train_test_split\n",
        "from sklearn.linear_model import LogisticRegression\n",
        "from sklearn.metrics import roc_auc_score, roc_curve\n",
        "from sklearn.datasets import load_breast_cancer\n",
        "from sklearn.preprocessing import StandardScaler\n",
        "\n",
        "# Load dataset (Breast Cancer dataset - binary classification)\n",
        "data = load_breast_cancer()\n",
        "X = data.data\n",
        "y = data.target\n",
        "\n",
        "# Split into training (80%) and testing (20%) sets\n",
        "X_train, X_test, y_train, y_test = train_test_split(X, y, test_size=0.2, random_state=42)\n",
        "\n",
        "# Standardize features\n",
        "scaler = StandardScaler()\n",
        "X_train = scaler.fit_transform(X_train)\n",
        "X_test = scaler.transform(X_test)\n",
        "\n",
        "# Train Logistic Regression model\n",
        "model = LogisticRegression(max_iter=200)\n",
        "model.fit(X_train, y_train)\n",
        "\n",
        "# Predict probabilities for ROC-AUC evaluation\n",
        "y_prob = model.predict_proba(X_test)[:, 1]\n",
        "\n",
        "# Compute ROC-AUC score\n",
        "roc_auc = roc_auc_score(y_test, y_prob)\n",
        "print(f\"ROC-AUC Score: {roc_auc:.2f}\")\n",
        "\n",
        "# Compute ROC curve\n",
        "fpr, tpr, _ = roc_curve(y_test, y_prob)\n",
        "\n",
        "# Plot ROC Curve\n",
        "plt.figure(figsize=(6, 5))\n",
        "plt.plot(fpr, tpr, color='blue', label=f'ROC Curve (AUC = {roc_auc:.2f})')\n",
        "plt.plot([0, 1], [0, 1], color='gray', linestyle='--')  # Diagonal line (random classifier)\n",
        "plt.xlabel(\"False Positive Rate\")\n",
        "plt.ylabel(\"True Positive Rate\")\n",
        "plt.title(\"ROC Curve for Logistic Regression\")\n",
        "plt.legend()\n",
        "plt.show()\n"
      ],
      "metadata": {
        "colab": {
          "base_uri": "https://localhost:8080/",
          "height": 504
        },
        "id": "FYRnHc7T03ol",
        "outputId": "b0f678a9-0310-4a8b-f0ac-3a0a888747cb"
      },
      "execution_count": 20,
      "outputs": [
        {
          "output_type": "stream",
          "name": "stdout",
          "text": [
            "ROC-AUC Score: 1.00\n"
          ]
        },
        {
          "output_type": "display_data",
          "data": {
            "text/plain": [
              "<Figure size 600x500 with 1 Axes>"
            ],
            "image/png": "[encoded data removed]"
          },
          "metadata": {}
        }
      ]
    },
    {
      "cell_type": "markdown",
      "source": [
        "17.3M Write a Python program to train Logistic Regression using a custom learning rate (C=0.5) and evaluate\n",
        "accuracy"
      ],
      "metadata": {
        "id": "fn1csmPq1BW3"
      }
    },
    {
      "cell_type": "code",
      "source": [
        "import numpy as np\n",
        "import pandas as pd\n",
        "from sklearn.model_selection import train_test_split\n",
        "from sklearn.linear_model import LogisticRegression\n",
        "from sklearn.metrics import accuracy_score\n",
        "from sklearn.datasets import load_breast_cancer\n",
        "from sklearn.preprocessing import StandardScaler\n",
        "\n",
        "# Load dataset (Breast Cancer dataset - binary classification)\n",
        "data = load_breast_cancer()\n",
        "X = data.data\n",
        "y = data.target\n",
        "\n",
        "# Split into training (80%) and testing (20%) sets\n",
        "X_train, X_test, y_train, y_test = train_test_split(X, y, test_size=0.2, random_state=42)\n",
        "\n",
        "# Standardize features\n",
        "scaler = StandardScaler()\n",
        "X_train = scaler.fit_transform(X_train)\n",
        "X_test = scaler.transform(X_test)\n",
        "\n",
        "# Train Logistic Regression with custom regularization strength (C=0.5)\n",
        "model = LogisticRegression(C=0.5, max_iter=200)\n",
        "model.fit(X_train, y_train)\n",
        "\n",
        "# Make predictions\n",
        "y_pred = model.predict(X_test)\n",
        "\n",
        "# Evaluate accuracy\n",
        "accuracy = accuracy_score(y_test, y_pred)\n",
        "print(f\"Logistic Regression Model Accuracy (C=0.5): {accuracy:.2f}\")\n"
      ],
      "metadata": {
        "colab": {
          "base_uri": "https://localhost:8080/"
        },
        "id": "lw0fzpj51AnT",
        "outputId": "ab11955b-dd62-4b6a-b50b-3cb16c913b5f"
      },
      "execution_count": 21,
      "outputs": [
        {
          "output_type": "stream",
          "name": "stdout",
          "text": [
            "Logistic Regression Model Accuracy (C=0.5): 0.97\n"
          ]
        }
      ]
    },
    {
      "cell_type": "markdown",
      "source": [
        "18. Write a Python program to train Logistic Regression and identify important features based on model\n",
        "coefficient"
      ],
      "metadata": {
        "id": "L1byw2Nn1LYV"
      }
    },
    {
      "cell_type": "code",
      "source": [
        "import numpy as np\n",
        "import pandas as pd\n",
        "import matplotlib.pyplot as plt\n",
        "from sklearn.model_selection import train_test_split\n",
        "from sklearn.linear_model import LogisticRegression\n",
        "from sklearn.datasets import load_breast_cancer\n",
        "from sklearn.preprocessing import StandardScaler\n",
        "\n",
        "# Load dataset (Breast Cancer dataset - binary classification)\n",
        "data = load_breast_cancer()\n",
        "X = pd.DataFrame(data.data, columns=data.feature_names)\n",
        "y = data.target\n",
        "\n",
        "# Split into training (80%) and testing (20%) sets\n",
        "X_train, X_test, y_train, y_test = train_test_split(X, y, test_size=0.2, random_state=42)\n",
        "\n",
        "# Standardize features (important for coefficient analysis)\n",
        "scaler = StandardScaler()\n",
        "X_train_scaled = scaler.fit_transform(X_train)\n",
        "X_test_scaled = scaler.transform(X_test)\n",
        "\n",
        "# Train Logistic Regression model\n",
        "model = LogisticRegression(max_iter=200)\n",
        "model.fit(X_train_scaled, y_train)\n",
        "\n",
        "# Get feature importance (model coefficients)\n",
        "feature_importance = pd.Series(model.coef_[0], index=X.columns)\n",
        "feature_importance = feature_importance.abs().sort_values(ascending=False)  # Sort by absolute value\n",
        "\n",
        "# Print top 10 important features\n",
        "print(\"Top 10 Important Features:\")\n",
        "print(feature_importance.head(10))\n",
        "\n",
        "# Plot feature importance\n",
        "plt.figure(figsize=(8, 5))\n",
        "feature_importance.head(10).plot(kind='bar', color='blue')\n",
        "plt.xlabel(\"Features\")\n",
        "plt.ylabel(\"Coefficient Magnitude (Importance)\")\n",
        "plt.title(\"Top 10 Important Features in Logistic Regression\")\n",
        "plt.show()\n"
      ],
      "metadata": {
        "colab": {
          "base_uri": "https://localhost:8080/",
          "height": 830
        },
        "id": "m3_bfaJF1Kf_",
        "outputId": "60a8fcd8-b92c-4baa-e1ca-83b6b86db9b1"
      },
      "execution_count": 22,
      "outputs": [
        {
          "output_type": "stream",
          "name": "stdout",
          "text": [
            "Top 10 Important Features:\n",
            "worst texture           1.350606\n",
            "radius error            1.268178\n",
            "worst symmetry          1.208200\n",
            "mean concave points     1.119804\n",
            "worst concavity         0.943053\n",
            "area error              0.907186\n",
            "worst radius            0.879840\n",
            "worst area              0.841846\n",
            "mean concavity          0.801458\n",
            "worst concave points    0.778217\n",
            "dtype: float64\n"
          ]
        },
        {
          "output_type": "display_data",
          "data": {
            "text/plain": [
              "<Figure size 800x500 with 1 Axes>"
            ],
            "image/png": "[encoded data removed]"
          },
          "metadata": {}
        }
      ]
    },
    {
      "cell_type": "markdown",
      "source": [
        "19.M Write a Python program to train Logistic Regression and evaluate its performance using Cohen’s Kappa\n",
        "Score"
      ],
      "metadata": {
        "id": "yNZGcIoE1WND"
      }
    },
    {
      "cell_type": "code",
      "source": [
        "import numpy as np\n",
        "import pandas as pd\n",
        "from sklearn.model_selection import train_test_split\n",
        "from sklearn.linear_model import LogisticRegression\n",
        "from sklearn.metrics import cohen_kappa_score, accuracy_score\n",
        "from sklearn.datasets import load_breast_cancer\n",
        "from sklearn.preprocessing import StandardScaler\n",
        "\n",
        "# Load dataset (Breast Cancer dataset - binary classification)\n",
        "data = load_breast_cancer()\n",
        "X = data.data\n",
        "y = data.target\n",
        "\n",
        "# Split into training (80%) and testing (20%) sets\n",
        "X_train, X_test, y_train, y_test = train_test_split(X, y, test_size=0.2, random_state=42)\n",
        "\n",
        "# Standardize features (important for better model performance)\n",
        "scaler = StandardScaler()\n",
        "X_train = scaler.fit_transform(X_train)\n",
        "X_test = scaler.transform(X_test)\n",
        "\n",
        "# Train Logistic Regression model\n",
        "model = LogisticRegression(max_iter=200)\n",
        "model.fit(X_train, y_train)\n",
        "\n",
        "# Make predictions\n",
        "y_pred = model.predict(X_test)\n",
        "\n",
        "# Compute Cohen’s Kappa Score\n",
        "kappa_score = cohen_kappa_score(y_test, y_pred)\n",
        "\n",
        "# Compute Accuracy for reference\n",
        "accuracy = accuracy_score(y_test, y_pred)\n",
        "\n",
        "# Print results\n",
        "print(f\"Accuracy: {accuracy:.2f}\")\n",
        "print(f\"Cohen’s Kappa Score: {kappa_score:.2f}\")\n",
        "\n"
      ],
      "metadata": {
        "colab": {
          "base_uri": "https://localhost:8080/"
        },
        "id": "wugz3n1k1U-l",
        "outputId": "9e5458a7-9c76-44a5-8a47-1d6976cb6125"
      },
      "execution_count": 23,
      "outputs": [
        {
          "output_type": "stream",
          "name": "stdout",
          "text": [
            "Accuracy: 0.97\n",
            "Cohen’s Kappa Score: 0.94\n"
          ]
        }
      ]
    },
    {
      "cell_type": "markdown",
      "source": [
        "20.Write a Python program to train Logistic Regression and visualize the Precision-Recall Curve for binary\n",
        "classification"
      ],
      "metadata": {
        "id": "4kW7W07w1dml"
      }
    },
    {
      "cell_type": "code",
      "source": [
        "import numpy as np\n",
        "import pandas as pd\n",
        "import matplotlib.pyplot as plt\n",
        "from sklearn.model_selection import train_test_split\n",
        "from sklearn.linear_model import LogisticRegression\n",
        "from sklearn.metrics import precision_recall_curve, average_precision_score\n",
        "from sklearn.datasets import load_breast_cancer\n",
        "from sklearn.preprocessing import StandardScaler\n",
        "\n",
        "# Load dataset (Breast Cancer dataset - binary classification)\n",
        "data = load_breast_cancer()\n",
        "X = data.data\n",
        "y = data.target\n",
        "\n",
        "# Split into training (80%) and testing (20%) sets\n",
        "X_train, X_test, y_train, y_test = train_test_split(X, y, test_size=0.2, random_state=42)\n",
        "\n",
        "# Standardize features\n",
        "scaler = StandardScaler()\n",
        "X_train = scaler.fit_transform(X_train)\n",
        "X_test = scaler.transform(X_test)\n",
        "\n",
        "# Train Logistic Regression model\n",
        "model = LogisticRegression(max_iter=200)\n",
        "model.fit(X_train, y_train)\n",
        "\n",
        "# Predict probabilities for Precision-Recall analysis\n",
        "y_prob = model.predict_proba(X_test)[:, 1]\n",
        "\n",
        "# Compute Precision-Recall curve\n",
        "precision, recall, _ = precision_recall_curve(y_test, y_prob)\n",
        "\n",
        "# Compute Average Precision Score\n",
        "avg_precision = average_precision_score(y_test, y_prob)\n",
        "\n",
        "# Plot Precision-Recall Curve\n",
        "plt.figure(figsize=(6, 5))\n",
        "plt.plot(recall, precision, color='blue', label=f'AP Score = {avg_precision:.2f}')\n",
        "plt.xlabel(\"Recall\")\n",
        "plt.ylabel(\"Precision\")\n",
        "plt.title(\"Precision-Recall Curve for Logistic Regression\")\n",
        "plt.legend()\n",
        "plt.grid()\n",
        "plt.show()\n"
      ],
      "metadata": {
        "colab": {
          "base_uri": "https://localhost:8080/",
          "height": 487
        },
        "id": "t9wQM6wl1tuu",
        "outputId": "602844e0-6ea2-4dd4-fe0e-a6bf41f21700"
      },
      "execution_count": 24,
      "outputs": [
        {
          "output_type": "display_data",
          "data": {
            "text/plain": [
              "<Figure size 600x500 with 1 Axes>"
            ],
            "image/png": "[encoded data removed]"
          },
          "metadata": {}
        }
      ]
    },
    {
      "cell_type": "markdown",
      "source": [
        "21.M Write a Python program to train Logistic Regression with different solvers (liblinear, saga, lbfgs) and compare\n",
        "their accuracy"
      ],
      "metadata": {
        "id": "HXVI1lJa1xe0"
      }
    },
    {
      "cell_type": "code",
      "source": [
        "import numpy as np\n",
        "import pandas as pd\n",
        "from sklearn.model_selection import train_test_split\n",
        "from sklearn.linear_model import LogisticRegression\n",
        "from sklearn.metrics import accuracy_score\n",
        "from sklearn.datasets import load_breast_cancer\n",
        "from sklearn.preprocessing import StandardScaler\n",
        "\n",
        "# Load dataset (Breast Cancer dataset - binary classification)\n",
        "data = load_breast_cancer()\n",
        "X = data.data\n",
        "y = data.target\n",
        "\n",
        "# Split into training (80%) and testing (20%) sets\n",
        "X_train, X_test, y_train, y_test = train_test_split(X, y, test_size=0.2, random_state=42)\n",
        "\n",
        "# Standardize features for better model convergence\n",
        "scaler = StandardScaler()\n",
        "X_train = scaler.fit_transform(X_train)\n",
        "X_test = scaler.transform(X_test)\n",
        "\n",
        "# Define solvers to test\n",
        "solvers = [\"liblinear\", \"saga\", \"lbfgs\"]\n",
        "accuracy_results = {}\n",
        "\n",
        "# Train Logistic Regression models with different solvers\n",
        "for solver in solvers:\n",
        "    model = LogisticRegression(solver=solver, max_iter=200)\n",
        "    model.fit(X_train, y_train)\n",
        "    y_pred = model.predict(X_test)\n",
        "    accuracy = accuracy_score(y_test, y_pred)\n",
        "    accuracy_results[solver] = accuracy\n",
        "    print(f\"Accuracy with solver {solver}: {accuracy:.2f}\")\n",
        "\n",
        "# Compare results\n",
        "print(\"\\nComparison of solver performance:\")\n",
        "for solver, acc in accuracy_results.items():\n",
        "    print(f\"{solver}: {acc:.2f}\")\n"
      ],
      "metadata": {
        "colab": {
          "base_uri": "https://localhost:8080/"
        },
        "id": "JiOzdFL61wsQ",
        "outputId": "6e7756d2-9a4c-4659-9f83-a7329bc4ceba"
      },
      "execution_count": 25,
      "outputs": [
        {
          "output_type": "stream",
          "name": "stdout",
          "text": [
            "Accuracy with solver liblinear: 0.97\n",
            "Accuracy with solver saga: 0.97\n",
            "Accuracy with solver lbfgs: 0.97\n",
            "\n",
            "Comparison of solver performance:\n",
            "liblinear: 0.97\n",
            "saga: 0.97\n",
            "lbfgs: 0.97\n"
          ]
        },
        {
          "output_type": "stream",
          "name": "stderr",
          "text": [
            "/usr/local/lib/python3.11/dist-packages/sklearn/linear_model/_sag.py:348: ConvergenceWarning: The max_iter was reached which means the coef_ did not converge\n",
            "  warnings.warn(\n"
          ]
        }
      ]
    },
    {
      "cell_type": "markdown",
      "source": [
        "22.M Write a Python program to train Logistic Regression and evaluate its performance using Matthews\n",
        "Correlation Coefficient (MCC)"
      ],
      "metadata": {
        "id": "9AMXdpev15ku"
      }
    },
    {
      "cell_type": "code",
      "source": [
        "import numpy as np\n",
        "import pandas as pd\n",
        "from sklearn.model_selection import train_test_split\n",
        "from sklearn.linear_model import LogisticRegression\n",
        "from sklearn.metrics import matthews_corrcoef, accuracy_score\n",
        "from sklearn.datasets import load_breast_cancer\n",
        "from sklearn.preprocessing import StandardScaler\n",
        "\n",
        "# Load dataset (Breast Cancer dataset - binary classification)\n",
        "data = load_breast_cancer()\n",
        "X = data.data\n",
        "y = data.target\n",
        "\n",
        "# Split into training (80%) and testing (20%) sets\n",
        "X_train, X_test, y_train, y_test = train_test_split(X, y, test_size=0.2, random_state=42)\n",
        "\n",
        "# Standardize features for better model performance\n",
        "scaler = StandardScaler()\n",
        "X_train = scaler.fit_transform(X_train)\n",
        "X_test = scaler.transform(X_test)\n",
        "\n",
        "# Train Logistic Regression model\n",
        "model = LogisticRegression(max_iter=200)\n",
        "model.fit(X_train, y_train)\n",
        "\n",
        "# Make predictions\n",
        "y_pred = model.predict(X_test)\n",
        "\n",
        "# Compute Matthews Correlation Coefficient (MCC)\n",
        "mcc_score = matthews_corrcoef(y_test, y_pred)\n",
        "\n",
        "# Compute Accuracy for reference\n",
        "accuracy = accuracy_score(y_test, y_pred)\n",
        "\n",
        "# Print results\n",
        "print(f\"Accuracy: {accuracy:.2f}\")\n",
        "print(f\"Matthews Correlation Coefficient (MCC): {mcc_score:.2f}\")\n"
      ],
      "metadata": {
        "colab": {
          "base_uri": "https://localhost:8080/"
        },
        "id": "dYzjpUKg13-6",
        "outputId": "5d57fbd6-288f-48b7-c29f-1158c5fc7152"
      },
      "execution_count": 26,
      "outputs": [
        {
          "output_type": "stream",
          "name": "stdout",
          "text": [
            "Accuracy: 0.97\n",
            "Matthews Correlation Coefficient (MCC): 0.94\n"
          ]
        }
      ]
    },
    {
      "cell_type": "markdown",
      "source": [
        "23.Write a Python program to train Logistic Regression on both raw and standardized data. Compare their\n",
        "accuracy to see the impact of feature scaling\n"
      ],
      "metadata": {
        "id": "wOh2ZB082BAw"
      }
    },
    {
      "cell_type": "code",
      "source": [
        "import numpy as np\n",
        "import pandas as pd\n",
        "from sklearn.model_selection import train_test_split\n",
        "from sklearn.linear_model import LogisticRegression\n",
        "from sklearn.metrics import accuracy_score\n",
        "from sklearn.datasets import load_breast_cancer\n",
        "from sklearn.preprocessing import StandardScaler\n",
        "\n",
        "# Load dataset (Breast Cancer dataset - binary classification)\n",
        "data = load_breast_cancer()\n",
        "X = data.data\n",
        "y = data.target\n",
        "\n",
        "# Split into training (80%) and testing (20%) sets\n",
        "X_train, X_test, y_train, y_test = train_test_split(X, y, test_size=0.2, random_state=42)\n",
        "\n",
        "# Train Logistic Regression on raw data (without scaling)\n",
        "model_raw = LogisticRegression(max_iter=200)\n",
        "model_raw.fit(X_train, y_train)\n",
        "y_pred_raw = model_raw.predict(X_test)\n",
        "accuracy_raw = accuracy_score(y_test, y_pred_raw)\n",
        "\n",
        "# Apply feature scaling (Standardization)\n",
        "scaler = StandardScaler()\n",
        "X_train_scaled = scaler.fit_transform(X_train)\n",
        "X_test_scaled = scaler.transform(X_test)\n",
        "\n",
        "# Train Logistic Regression on standardized data\n",
        "model_scaled = LogisticRegression(max_iter=200)\n",
        "model_scaled.fit(X_train_scaled, y_train)\n",
        "y_pred_scaled = model_scaled.predict(X_test_scaled)\n",
        "accuracy_scaled = accuracy_score(y_test, y_pred_scaled)\n",
        "\n",
        "# Print accuracy comparison\n",
        "print(f\"Accuracy on Raw Data: {accuracy_raw:.2f}\")\n",
        "print(f\"Accuracy on Standardized Data: {accuracy_scaled:.2f}\")\n",
        "\n",
        "# Compare the results\n",
        "if accuracy_scaled > accuracy_raw:\n",
        "    print(\"Feature scaling improved the model accuracy!\")\n",
        "elif accuracy_scaled < accuracy_raw:\n",
        "    print(\"Feature scaling reduced the model accuracy.\")\n",
        "else:\n",
        "    print(\"Feature scaling had no effect on accuracy.\")\n"
      ],
      "metadata": {
        "colab": {
          "base_uri": "https://localhost:8080/"
        },
        "id": "ZTKIJwLh2ANl",
        "outputId": "a5bf7856-0395-4041-d5de-abbd6aba752a"
      },
      "execution_count": 27,
      "outputs": [
        {
          "output_type": "stream",
          "name": "stdout",
          "text": [
            "Accuracy on Raw Data: 0.96\n",
            "Accuracy on Standardized Data: 0.97\n",
            "Feature scaling improved the model accuracy!\n"
          ]
        },
        {
          "output_type": "stream",
          "name": "stderr",
          "text": [
            "/usr/local/lib/python3.11/dist-packages/sklearn/linear_model/_logistic.py:465: ConvergenceWarning: lbfgs failed to converge (status=1):\n",
            "STOP: TOTAL NO. of ITERATIONS REACHED LIMIT.\n",
            "\n",
            "Increase the number of iterations (max_iter) or scale the data as shown in:\n",
            "    https://scikit-learn.org/stable/modules/preprocessing.html\n",
            "Please also refer to the documentation for alternative solver options:\n",
            "    https://scikit-learn.org/stable/modules/linear_model.html#logistic-regression\n",
            "  n_iter_i = _check_optimize_result(\n"
          ]
        }
      ]
    },
    {
      "cell_type": "markdown",
      "source": [
        "24.Write a Python program to train Logistic Regression and find the optimal C (regularization strength) using\n",
        "cross-validation"
      ],
      "metadata": {
        "id": "YhDlnkY22KLv"
      }
    },
    {
      "cell_type": "code",
      "source": [
        "import numpy as np\n",
        "import pandas as pd\n",
        "from sklearn.model_selection import train_test_split, GridSearchCV\n",
        "from sklearn.linear_model import LogisticRegression\n",
        "from sklearn.metrics import accuracy_score\n",
        "from sklearn.datasets import load_breast_cancer\n",
        "from sklearn.preprocessing import StandardScaler\n",
        "\n",
        "# Load dataset (Breast Cancer dataset - binary classification)\n",
        "data = load_breast_cancer()\n",
        "X = data.data\n",
        "y = data.target\n",
        "\n",
        "# Split into training (80%) and testing (20%) sets\n",
        "X_train, X_test, y_train, y_test = train_test_split(X, y, test_size=0.2, random_state=42)\n",
        "\n",
        "# Standardize features for better model performance\n",
        "scaler = StandardScaler()\n",
        "X_train = scaler.fit_transform(X_train)\n",
        "X_test = scaler.transform(X_test)\n",
        "\n",
        "# Define Logistic Regression model\n",
        "model = LogisticRegression(max_iter=200)\n",
        "\n",
        "# Define hyperparameter grid for C (inverse of regularization strength)\n",
        "param_grid = {'C': [0.001, 0.01, 0.1, 1, 10, 100]}\n",
        "\n",
        "# Use GridSearchCV to find the best C using cross-validation\n",
        "grid_search = GridSearchCV(model, param_grid, cv=5, scoring='accuracy', n_jobs=-1)\n",
        "grid_search.fit(X_train, y_train)\n",
        "\n",
        "# Get best hyperparameter C\n",
        "best_C = grid_search.best_params_['C']\n",
        "print(f\"Optimal C (Regularization Strength): {best_C}\")\n",
        "\n",
        "# Train Logistic Regression with optimal C\n",
        "best_model = LogisticRegression(C=best_C, max_iter=200)\n",
        "best_model.fit(X_train, y_train)\n",
        "\n",
        "# Make predictions and evaluate accuracy\n",
        "y_pred = best_model.predict(X_test)\n",
        "accuracy = accuracy_score(y_test, y_pred)\n",
        "print(f\"Accuracy with Optimal C: {accuracy:.2f}\")\n"
      ],
      "metadata": {
        "colab": {
          "base_uri": "https://localhost:8080/"
        },
        "id": "iKuFGG-p2IcR",
        "outputId": "36c32eaf-bb96-4e40-ba73-15aa36b6751c"
      },
      "execution_count": 28,
      "outputs": [
        {
          "output_type": "stream",
          "name": "stdout",
          "text": [
            "Optimal C (Regularization Strength): 10\n",
            "Accuracy with Optimal C: 0.97\n"
          ]
        }
      ]
    },
    {
      "cell_type": "markdown",
      "source": [
        "25.Write a Python program to train Logistic Regression, save the trained model using joblib, and load it again to\n",
        "make predictions."
      ],
      "metadata": {
        "id": "UYqpYY_x2R_-"
      }
    },
    {
      "cell_type": "code",
      "source": [
        "import numpy as np\n",
        "import joblib\n",
        "import pandas as pd\n",
        "from sklearn.model_selection import train_test_split\n",
        "from sklearn.linear_model import LogisticRegression\n",
        "from sklearn.metrics import accuracy_score\n",
        "from sklearn.datasets import load_breast_cancer\n",
        "from sklearn.preprocessing import StandardScaler\n",
        "\n",
        "# Load dataset (Breast Cancer dataset - binary classification)\n",
        "data = load_breast_cancer()\n",
        "X = data.data\n",
        "y = data.target\n",
        "\n",
        "# Split into training (80%) and testing (20%) sets\n",
        "X_train, X_test, y_train, y_test = train_test_split(X, y, test_size=0.2, random_state=42)\n",
        "\n",
        "# Standardize features for better model performance\n",
        "scaler = StandardScaler()\n",
        "X_train = scaler.fit_transform(X_train)\n",
        "X_test = scaler.transform(X_test)\n",
        "\n",
        "# Train Logistic Regression model\n",
        "model = LogisticRegression(max_iter=200)\n",
        "model.fit(X_train, y_train)\n",
        "\n",
        "# Save the trained model using joblib\n",
        "joblib.dump(model, \"logistic_regression_model.pkl\")\n",
        "print(\"Model saved successfully!\")\n",
        "\n",
        "# Load the saved model\n",
        "loaded_model = joblib.load(\"logistic_regression_model.pkl\")\n",
        "print(\"Model loaded successfully!\")\n",
        "\n",
        "# Make predictions using the loaded model\n",
        "y_pred = loaded_model.predict(X_test)\n",
        "\n",
        "# Evaluate accuracy\n",
        "accuracy = accuracy_score(y_test, y_pred)\n",
        "print(f\"Accuracy of Loaded Model: {accuracy:.2f}\")\n"
      ],
      "metadata": {
        "colab": {
          "base_uri": "https://localhost:8080/"
        },
        "id": "WoaQ9_mU2RGp",
        "outputId": "fc283192-37c0-41c4-bcc0-d124b97167e7"
      },
      "execution_count": 29,
      "outputs": [
        {
          "output_type": "stream",
          "name": "stdout",
          "text": [
            "Model saved successfully!\n",
            "Model loaded successfully!\n",
            "Accuracy of Loaded Model: 0.97\n"
          ]
        }
      ]
    },
    {
      "cell_type": "code",
      "source": [],
      "metadata": {
        "id": "ds0xrhTF2XzM"
      },
      "execution_count": null,
      "outputs": []
    }
  ]
}